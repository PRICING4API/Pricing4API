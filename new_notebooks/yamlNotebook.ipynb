{
 "cells": [
  {
   "cell_type": "code",
   "execution_count": 1,
   "metadata": {},
   "outputs": [],
   "source": [
    "yaml_content = \"\"\"\n",
    "!Pricing\n",
    "DBLP Pricing:\n",
    "  metrics:\n",
    "    name: requests\n",
    "  plans:\n",
    "    Free DBLP:\n",
    "      cost: 0.0\n",
    "      billing_cycle:\n",
    "        value: 1\n",
    "        unit: month\n",
    "      unitary_rate: \n",
    "        /*:\n",
    "          all:\n",
    "            requests:\n",
    "              period:\n",
    "                value: 3\n",
    "                unit: second\n",
    "      quotas:\n",
    "        /*:\n",
    "          all:\n",
    "            requests:\n",
    "              - max: 10\n",
    "                period:\n",
    "                  value: 1\n",
    "                  unit: minute\n",
    "\"\"\"\n"
   ]
  },
  {
   "cell_type": "code",
   "execution_count": 2,
   "metadata": {},
   "outputs": [],
   "source": [
    "from Pricing4API.ancillary.yaml_serialization import PricingYamlHandler\n",
    "import yaml\n",
    "from Pricing4API.main.plan import Plan\n",
    "\n",
    "PricingYamlHandler.load()\n",
    "\n",
    "pricing = yaml.safe_load(yaml_content)\n",
    "\n"
   ]
  },
  {
   "cell_type": "code",
   "execution_count": 4,
   "metadata": {},
   "outputs": [
    {
     "name": "stdout",
     "output_type": "stream",
     "text": [
      "<Pricing4API.main.plan.Plan object at 0x000001BB06CFD780>\n"
     ]
    }
   ],
   "source": [
    "plan: Plan = pricing.plans[0]\n",
    "\n",
    "print(plan)"
   ]
  },
  {
   "cell_type": "code",
   "execution_count": null,
   "metadata": {},
   "outputs": [],
   "source": []
  }
 ],
 "metadata": {
  "kernelspec": {
   "display_name": ".venv",
   "language": "python",
   "name": "python3"
  },
  "language_info": {
   "codemirror_mode": {
    "name": "ipython",
    "version": 3
   },
   "file_extension": ".py",
   "mimetype": "text/x-python",
   "name": "python",
   "nbconvert_exporter": "python",
   "pygments_lexer": "ipython3",
   "version": "3.10.11"
  }
 },
 "nbformat": 4,
 "nbformat_minor": 2
}
