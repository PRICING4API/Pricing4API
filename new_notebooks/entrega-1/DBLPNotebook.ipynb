{
 "cells": [
  {
   "cell_type": "markdown",
   "metadata": {},
   "source": [
    "# Explorando la API de DBLP: Introducción y objetivos\n",
    "\n",
    "## ¿Qué es DBLP?\n",
    "DBLP es una base de datos bibliográfica en línea que proporciona información sobre publicaciones científicas, principalmente en el ámbito de la informática. Esta API permite acceder a datos estructurados sobre artículos, autores y conferencias, facilitando la búsqueda y el análisis de publicaciones académicas.\n",
    "\n",
    "[Sitio web oficial de DBLP](https://dblp.org/)\n",
    "\n",
    "---\n",
    "\n",
    "- ¿Qué problemas puede enfrentar una API si no establece límites de consumo?\n",
    "- ¿Cómo podría afectar esto a los usuarios finales o a los desarrolladores?\n",
    "\n",
    "---\n",
    "\n"
   ]
  },
  {
   "cell_type": "markdown",
   "metadata": {},
   "source": [
    "## ¿Cómo consumiríamos la API sin una especificación clara?\n",
    "La API de DBLP no tiene una especificación formal sobre sus límites de consumo (*rate limits*) o cuotas. Sin embargo, en el siguiente [FAQ de DBLP](https://dblp.org/faq/Am+I+allowed+to+crawl+the+dblp+website.html), se indica que las solicitudes deben espaciarse cada 2 segundos. Seguimos sin un límite claro de solicitudes por minuto, pero tras realizar pruebas, se ha observado que el límite asumible es de **5 solicitudes por minuto**.\n",
    "\n",
    "Vamos a probar un consumo regulado durante **1 minuto**, espaciando las solicitudes cada 3 segundos. Si el límite asumido de **5 solicitudes por minuto** es correcto, no deberíamos obtener errores 429."
   ]
  },
  {
   "cell_type": "code",
   "execution_count": 1,
   "metadata": {},
   "outputs": [],
   "source": [
    "\n",
    "import yaml\n",
    "from Pricing4API.ancillary.yaml_serialization import PricingYamlHandler\n",
    "from Pricing4API.ancillary.limit import Limit\n",
    "from Pricing4API.ancillary.time_unit import TimeDuration, TimeUnit\n",
    "from Pricing4API.main.plan import Plan\n",
    "from Pricing4API.main.subscription import Subscription\n",
    "PricingYamlHandler.load()"
   ]
  },
  {
   "cell_type": "code",
   "execution_count": 2,
   "metadata": {},
   "outputs": [],
   "source": [
    "dblp_yaml = \"\"\"\n",
    "!Pricing\n",
    "DBLP Pricing:\n",
    "  metrics:\n",
    "    name: requests\n",
    "  plans:\n",
    "    Free DBLP:\n",
    "      cost: 0.0\n",
    "      billing_cycle:\n",
    "        value: 1\n",
    "        unit: month\n",
    "      unitary_rate: \n",
    "        /*:\n",
    "          all:\n",
    "            requests:\n",
    "              period:\n",
    "                value: 3\n",
    "                unit: second\n",
    "      quotas:\n",
    "        /*:\n",
    "          all:\n",
    "            requests:\n",
    "              - max: 5\n",
    "                period:\n",
    "                  value: 1\n",
    "                  unit: minute\n",
    "\"\"\"\n",
    "\n"
   ]
  },
  {
   "cell_type": "code",
   "execution_count": null,
   "metadata": {},
   "outputs": [],
   "source": [
    "pricing_DBLP = yaml.safe_load(dblp_yaml)\n",
    "\n",
    "planes = pricing_DBLP.plans\n",
    "\n",
    "for index, plan in enumerate(planes):\n",
    "    print(plan.name,\" index: \" , index)"
   ]
  },
  {
   "cell_type": "code",
   "execution_count": null,
   "metadata": {},
   "outputs": [],
   "source": [
    "free_dblp = planes[0] #type: Plan\n",
    "dblp_subscription = Subscription(free_dblp, 'https://dblp.org/search/publ/api')\n",
    "dblp_subscription.api_usage_simulator(TimeDuration(1, TimeUnit.MINUTE))"
   ]
  },
  {
   "cell_type": "markdown",
   "metadata": {},
   "source": [
    "¿Obtenemos el resultado esperado? Para entenderlo mejor vamos a introducir el concepto de curva de capacidad.\n",
    "\n",
    "---\n",
    "\n",
    "- ¿Qué es una curva de capacidad?\n",
    "- ¿Cómo se relaciona con los límites de consumo de una API?\n",
    "\n",
    "---\n",
    "\n",
    "Es una representación del número máximo de solicitudes que podemos realizar a lo largo del tiempo, considerando las cuotas del plan y los intervalos de tiempo establecidos. Nos muestra cuántas solicitudes podríamos haber consumido en un momento dado si respetamos estrictamente los límites.\n"
   ]
  },
  {
   "cell_type": "code",
   "execution_count": null,
   "metadata": {},
   "outputs": [],
   "source": [
    "free_dblp.show_available_capacity_curve(TimeDuration(1, TimeUnit.MINUTE))"
   ]
  },
  {
   "cell_type": "markdown",
   "metadata": {},
   "source": [
    "**¿Hemos respetado los límites de consumo de la API de DBLP?**\n",
    "\n",
    "En la simulación previa no hemos obtenido errores 429, aún así para realmente garantizar que no hwmoa excedido los límites, la curva de demanada (el consumo real de las solicitudes) siempre debe mantenerse por **debajo o igual** a la curva de capacidad ideal. De lo contrario, podríamos exceder los límites de consumo y recibir errores 429.\n",
    "\n"
   ]
  },
  {
   "cell_type": "code",
   "execution_count": null,
   "metadata": {},
   "outputs": [],
   "source": [
    "dblp_subscription.demand_curve_vs_ideal_capacity()"
   ]
  },
  {
   "cell_type": "markdown",
   "metadata": {},
   "source": [
    "Definir la vigencia de un Pricing y la documentación actualizada son aspectos claves para garantizar un consumo adecuado de la API.\n",
    "\n",
    "- Sin una especificación clara y actualizada, los desarrolladores deben deducir los límites mediante pruebas, lo que puede generar ineficiencias y errores."
   ]
  },
  {
   "cell_type": "markdown",
   "metadata": {},
   "source": [
    "## Regulado vs. No regulado\n",
    "\n",
    "Cuando la suscripción está regulada, el simulador respeta los límites establecidos en el plan, asegurando que no aparezcan errores `429 Too Many Requests`.\n",
    "\n",
    "Sin embargo, si marcamos la suscripción como no regulada, el simulador intentará realizar las solicitudes tan rápido como sea posible, ignorando los límites establecidos. En este caso, observaremos errores `429` en pocos segundos, ya que la API detectará el exceso de consumo."
   ]
  },
  {
   "cell_type": "code",
   "execution_count": null,
   "metadata": {},
   "outputs": [],
   "source": [
    "dblp_subscription.regulated(False)\n",
    "\n",
    "dblp_subscription.api_usage_simulator(TimeDuration(30, TimeUnit.SECOND))"
   ]
  },
  {
   "cell_type": "markdown",
   "metadata": {},
   "source": [
    "## ¿Y si tras un consumo no regulado, intento hacerlo de forma regulada justo después?\n",
    "\n",
    "Como hemos observado en las pruebas anteriores, si intentamos consumir la API de forma no regulada, rápidamente nos encontraremos con errores `429 Too Many Requests`. Esto se debe a que estamos excediendo los límites de consumo permitidos por la API.\n",
    "\n",
    "Ahora bien, si después de recibir un error `429` intentamos volver a consumir la API de forma regulada, nos encontraremos con que no es posible hacerlo inmediatamente. Esto se debe a que debemos esperar a que pase el tiempo especificado en la cabecera de \"cooling down period\" antes de poder realizar nuevas solicitudes de forma regulada.\n"
   ]
  },
  {
   "cell_type": "code",
   "execution_count": null,
   "metadata": {},
   "outputs": [],
   "source": [
    "dblp_subscription.regulated(True)\n",
    "\n",
    "dblp_subscription.api_usage_simulator(TimeDuration(30, TimeUnit.SECOND)) "
   ]
  },
  {
   "cell_type": "code",
   "execution_count": null,
   "metadata": {},
   "outputs": [],
   "source": [
    "# import time\n",
    "# time.sleep(300)\n",
    "# dblp_subscription.api_usage_simulator(TimeDuration(1, TimeUnit.MINUTE))\n"
   ]
  },
  {
   "cell_type": "markdown",
   "metadata": {},
   "source": [
    "## ¿Cómo afectaría un error 429 en la capacidad disponible?\n",
    "\n",
    "Para entender este concepto pongamos un caso en el que teniendo la misma simulación anterior, de 1 minuto. Recibo un error en la segunda solicitud."
   ]
  },
  {
   "cell_type": "code",
   "execution_count": null,
   "metadata": {},
   "outputs": [],
   "source": [
    "mock_429_errors = [(2, '300')] # 300 segundos de coolingdown en la segunda solicitud.\n",
    "\n",
    "dblp_subscription.plot_combined_capacity_curves(mock_429_errors)\n"
   ]
  },
  {
   "cell_type": "markdown",
   "metadata": {},
   "source": [
    "---\n",
    "\n",
    "## ¿Cuántas solicitudes puedes hacer?\n",
    "\n",
    "Basándonos en lo que sabemos sobre la API, intenta responder a las siguientes preguntas. Usa los valores de **rate** y **cuota** para responder:\n",
    "\n",
    "1. ¿Cuántas solicitudes se pueden hacer en:\n",
    "   - 10 segundos?\n",
    "   - 1 minuto?\n",
    "   - 1 minuto y 1 segundo?\n",
    "\n",
    "---\n",
    "\n",
    "Para responder con precisión a estas preguntas, necesitamos una función que calcule el número máximo de solicitudes permitidas en un período \\( t \\), respetando tanto el **rate** como la **cuota** del plan.\n"
   ]
  },
  {
   "cell_type": "markdown",
   "metadata": {},
   "source": [
    "### Ejercicio: Implementar capacity(t)"
   ]
  },
  {
   "cell_type": "markdown",
   "metadata": {},
   "source": [
    "La función `capacity(t)` ya está implementada en la clase `Plan`. Vamos a probarla en distintos escenarios:"
   ]
  },
  {
   "cell_type": "code",
   "execution_count": null,
   "metadata": {},
   "outputs": [],
   "source": [
    "time_simulation_10s = TimeDuration(1, TimeUnit.SECOND)\n",
    "time_simulation_1m = TimeDuration(1, TimeUnit.MINUTE)\n",
    "time_simulation_1min_1s = TimeDuration(1, TimeUnit.MINUTE) + TimeDuration(1, TimeUnit.SECOND)\n",
    "\n",
    "capacity_10s = free_dblp.available_capacity(time_simulation_10s, len(free_dblp.limits) - 1)\n",
    "capacity_1m = free_dblp.available_capacity(time_simulation_1m, len(free_dblp.limits) - 1)\n",
    "capacity_1min_1s = free_dblp.available_capacity(time_simulation_1min_1s, len(free_dblp.limits) - 1)\n",
    "\n",
    "print(f\"Capacidad en 10 segundos: {capacity_10s}\")\n",
    "print(f\"Capacidad en 1 minuto: {capacity_1m}\")\n",
    "print(f\"Capacidad en 1 minuto y 1 segundos: {capacity_1min_1s}\")"
   ]
  },
  {
   "cell_type": "markdown",
   "metadata": {},
   "source": [
    "## ¿Cuánto tiempo necesitas para hacer X solicitudes?\n",
    "\n",
    "Usando los límites de la API (rate y cuota), intenta calcular cuánto tiempo tomaría realizar las siguientes solicitudes. Piensa si el rate o la cuota influirán más en el resultado:\n",
    "\n",
    "1. ¿Cuánto tiempo necesitas para realizar:\n",
    "   - 5 solicitudes?\n",
    "   - 6 solicitudes?\n",
    "   - 20 solicitudes?\n",
    "\n",
    "---\n",
    "\n",
    "Para responder estas preguntas, necesitamos una función, que calcule el tiempo mínimo necesario para realizar un número dado de solicitudes, respetando tanto el **rate** como la **cuota** del plan."
   ]
  },
  {
   "cell_type": "markdown",
   "metadata": {},
   "source": [
    "### Ejercicio: min_time(capacity_goal)"
   ]
  },
  {
   "cell_type": "markdown",
   "metadata": {},
   "source": [
    "La función `min_time(capacity_goal)` ya está implementada en la clase `Plan`. Vamos a probarla en distintos escenarios:"
   ]
  },
  {
   "cell_type": "code",
   "execution_count": null,
   "metadata": {},
   "outputs": [],
   "source": [
    "# Tiempo necesario para realizar 10, 20 y 100 solicitudes\n",
    "time_5_requests = free_dblp.min_time(5)\n",
    "time_6_requests = free_dblp.min_time(6)\n",
    "time_20_requests = free_dblp.min_time(20)\n",
    "\n",
    "print(f\"Tiempo para 5 solicitudes: {time_5_requests}\")\n",
    "print(f\"Tiempo para 6 solicitudes: {time_6_requests}\")\n",
    "print(f\"Tiempo para 20 solicitudes: {time_20_requests}\")"
   ]
  }
 ],
 "metadata": {
  "kernelspec": {
   "display_name": ".venv",
   "language": "python",
   "name": "python3"
  },
  "language_info": {
   "codemirror_mode": {
    "name": "ipython",
    "version": 3
   },
   "file_extension": ".py",
   "mimetype": "text/x-python",
   "name": "python",
   "nbconvert_exporter": "python",
   "pygments_lexer": "ipython3",
   "version": "3.10.11"
  }
 },
 "nbformat": 4,
 "nbformat_minor": 2
}
