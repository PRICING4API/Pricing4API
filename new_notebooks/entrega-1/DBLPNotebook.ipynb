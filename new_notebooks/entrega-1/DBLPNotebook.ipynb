{
 "cells": [
  {
   "cell_type": "code",
   "execution_count": 2,
   "metadata": {
    "cell_id": "f1ae90ee9bef4f3d95ee4315da8253e8",
    "deepnote_cell_type": "code",
    "execution_context_id": "6e5550ef-d52f-4c81-a24d-226ab0f16432",
    "execution_millis": 3284,
    "execution_start": 1736951176858,
    "source_hash": "8f108bb1"
   },
   "outputs": [],
   "source": [
    "import yaml\n",
    "import asyncio\n",
    "import nest_asyncio\n",
    "from Pricing4API.ancillary.yaml_serialization import PricingYamlHandler\n",
    "from Pricing4API.ancillary.limit import Limit\n",
    "from Pricing4API.ancillary.time_unit import TimeDuration, TimeUnit\n",
    "from Pricing4API.main.plan import Plan\n",
    "from Pricing4API.main.subscription import Subscription\n",
    "PricingYamlHandler.load()"
   ]
  },
  {
   "cell_type": "markdown",
   "metadata": {
    "cell_id": "b521078bda9f42589e4c9b3e717ea089",
    "deepnote_cell_type": "markdown"
   },
   "source": [
    "# Explorando la API de DBLP: Introducción y objetivos\n",
    "\n",
    "El propósito de este notebook es explorar los límites asociados a cualquier API, como ejemplo usaremos la API del DBLP. Una vez entendido el alumno podrá experimentar esto mismo con cualquier otra API, siempre que conozca (o asuma) los límites asociados a ella.\n",
    "\n",
    "## ¿Qué es DBLP?\n",
    "DBLP es una base de datos bibliográfica en línea que proporciona información sobre publicaciones científicas, principalmente en el ámbito de la informática. Esta API permite acceder a datos estructurados sobre artículos, autores y conferencias, facilitando la búsqueda y el análisis de publicaciones académicas.\n",
    "\n",
    "[Sitio web oficial de DBLP](https://dblp.org/)\n",
    "\n",
    "---\n",
    "\n",
    "- ¿Qué problemas puede enfrentar una API si no establece límites de consumo?\n",
    "- ¿Cómo podría afectar esto a los usuarios finales o a los desarrolladores?\n",
    "\n",
    "---\n",
    "\n"
   ]
  },
  {
   "cell_type": "markdown",
   "metadata": {
    "cell_id": "6e247212ea34402ea0d223eac8d98fd8",
    "deepnote_cell_type": "markdown"
   },
   "source": [
    "## ¿Cómo consumiríamos la API sin una especificación clara?\n",
    "La API de DBLP no tiene una especificación formal sobre sus límites de consumo (*rate limits*) o cuotas. Sin embargo, en el siguiente [FAQ de DBLP](https://dblp.org/faq/Am+I+allowed+to+crawl+the+dblp+website.html), se indica que las solicitudes deben espaciarse cada 2 segundos. Seguimos sin un límite claro de solicitudes por minuto, pero tras realizar pruebas, se ha observado que los límite asumibles son de **7 solicitudes por minuto** y **14 solicitudes por minuto**.\n",
    "\n",
    "Vamos a probar un consumo regulado durante **2 minutos y medio**, espaciando las solicitudes cada 3 segundos. Si los límites son correctos, no deberíamos obtener errores 429."
   ]
  },
  {
   "cell_type": "markdown",
   "metadata": {
    "cell_id": "4aaf232e855d4bb5bb141b55d7ede785",
    "deepnote_cell_type": "markdown"
   },
   "source": [
    "# 📘 Explicación del YAML para DBLP Pricing\n",
    "\n",
    "Este archivo YAML define las reglas de pricing y limitaciones para consumir cualquier API. A continuación, se detallan los principales bloques y su significado.\n",
    "\n",
    "---\n",
    "\n",
    "## 🌟 **Estructura General**\n",
    "\n",
    "El YAML está compuesto por los siguientes elementos clave:\n",
    "\n",
    "1. **`!Pricing`**: Declara el tipo de configuración, en este caso relacionada con precios.\n",
    "2. **`DBLP Pricing`**: Es el nombre principal de la configuración para la API de DBLP.\n",
    "3. **`metrics`**: Define qué se está midiendo; aquí, el número de solicitudes (`requests`).\n",
    "4. **`plans`**: Contiene los planes de suscripción, con límites y costos asociados.\n",
    "\n",
    "---\n",
    "\n",
    "## 🧩 **Detalles de los Bloques**\n",
    "\n",
    "### **1. Bloque `metrics`**\n",
    "```yaml\n",
    "metrics:\n",
    "  name: requests\n",
    "```\n",
    "\n",
    "Representa el nombre de la metrica que se esta midiendo. En este caso, se miden las solicitudes.\n",
    "\n",
    "### **2. Bloque `plans`**\n",
    "\n",
    "Dentro de este bloque, describiremos los diferentes planes de suscripción disponibles.\n",
    "\n",
    "En este caso hemos definido un único plan llamado `Free DBLP`. Se podrían definir más de uno, pero siempre dentro de cada plan debemos encontrar los siguientes bloques:\n",
    "\n",
    "---\n",
    "\n",
    "#### **Bloque `cost` y `billing_cycle**\n",
    "\n",
    "```yaml\n",
    "  cost: 0.0\n",
    "  billing_cycle:\n",
    "    value: 1\n",
    "    unit: month\n",
    "```\n",
    "\n",
    "\n",
    "Representa el costo de la suscripción. En este caso, el plan `Free DBLP` no tiene costos de suscripción.\n",
    "El ciclo de facturación es de **1 mes**.\n",
    "\n",
    "#### **Bloque `unitary_rate`**\n",
    "\n",
    "```yaml\n",
    "  unitary_rate: \n",
    "    /*:\n",
    "      all:\n",
    "        requests:\n",
    "          period:\n",
    "            value: 3\n",
    "            unit: second\n",
    "```\n",
    "\n",
    "Representa el lapso de tiempo entre dos solicitudes consecutivas. En este caso, la frecuencia de las solicitudes es de **3 segundos**. \n",
    "\n",
    "#### **Bloque `quotas`**\n",
    "\n",
    "```yaml\n",
    "  quotas:\n",
    "    /*:\n",
    "      all:\n",
    "        requests:\n",
    "          - max: 7\n",
    "            period:\n",
    "              value: 1\n",
    "              unit: minute\n",
    "          - max: 14\n",
    "            period:\n",
    "              value: 5\n",
    "              unit: minute\n",
    "```\n",
    "\n",
    "Representa los límites del consumo de la API del DBLP, se podrían añadir más cuotas siguiendo el mismo formato.\n",
    "\n",
    "##### **Uso del 'globbing'**\n",
    "\n",
    "El uso de **/*** indica que aplica a todos los endpoints, y el uso de **all** que aplica a todo metodo HTTP. En este caso se deja así por simplificar la construcción.\n",
    "\n",
    "\n",
    "\n",
    "\n",
    "\n",
    "\n",
    "\n",
    "\n",
    "\n"
   ]
  },
  {
   "cell_type": "code",
   "execution_count": 3,
   "metadata": {
    "cell_id": "17f764bf6dac4b46b55b3fd4b64575d9",
    "deepnote_cell_type": "code",
    "execution_context_id": "6e5550ef-d52f-4c81-a24d-226ab0f16432",
    "execution_millis": 0,
    "execution_start": 1736951180194,
    "source_hash": "179ce967"
   },
   "outputs": [],
   "source": [
    "dblp_yaml = \"\"\"\n",
    "!Pricing\n",
    "DBLP Pricing:\n",
    "  metrics:\n",
    "    name: requests\n",
    "  plans:\n",
    "    Free DBLP:\n",
    "      cost: 0.0\n",
    "      billing_cycle:\n",
    "        value: 1\n",
    "        unit: month\n",
    "      unitary_rate: \n",
    "        /*:\n",
    "          all:\n",
    "            requests:\n",
    "              period:\n",
    "                value: 3\n",
    "                unit: second\n",
    "      quotas:\n",
    "        /*:\n",
    "          all:\n",
    "            requests:\n",
    "              - max: 7\n",
    "                period:\n",
    "                  value: 1\n",
    "                  unit: minute\n",
    "              - max: 14\n",
    "                period:\n",
    "                  value: 5\n",
    "                  unit: minute\n",
    "\"\"\"\n"
   ]
  },
  {
   "cell_type": "markdown",
   "metadata": {
    "cell_id": "f8ffe762c0f0433ba320a8c47a4419b3",
    "deepnote_cell_type": "markdown"
   },
   "source": [
    "Ahora carguemos el pricing y extraigamos el plan con el que queremos realizar todas las pruebas."
   ]
  },
  {
   "cell_type": "code",
   "execution_count": null,
   "metadata": {
    "cell_id": "6e43178f41734faabc8906940c84db55",
    "deepnote_cell_type": "code",
    "execution_context_id": "6e5550ef-d52f-4c81-a24d-226ab0f16432",
    "execution_millis": 1,
    "execution_start": 1736951180250,
    "source_hash": "e2c25908"
   },
   "outputs": [],
   "source": [
    "pricing_DBLP = yaml.safe_load(dblp_yaml)\n",
    "\n",
    "planes = pricing_DBLP.plans\n",
    "\n",
    "for index, plan in enumerate(planes):\n",
    "    print(plan.name,\" index: \" , index)"
   ]
  },
  {
   "cell_type": "markdown",
   "metadata": {
    "cell_id": "be870a45aa314dad85cd15377df6a8d4",
    "deepnote_cell_type": "markdown"
   },
   "source": [
    "El siguiente código simula el consumo de la API de DBLP, al crear un objeto Subscription por defecto regulamos el consumo, y todas las llamadas respetarán los límites establecidos. Probemos a simular 2 minutos y medio de consumo.\n"
   ]
  },
  {
   "cell_type": "code",
   "execution_count": null,
   "metadata": {
    "cell_id": "4e44f57d338749fea83bdcfb437f5683",
    "deepnote_cell_type": "code",
    "deepnote_table_loading": false,
    "deepnote_table_state": {
     "cellFormattingRules": [],
     "columnDisplayNames": [],
     "columnOrder": [
      "Status Code",
      "Timestamp Sent (seconds)"
     ],
     "conditionalFilters": [],
     "filters": [],
     "hiddenColumnIds": [],
     "pageIndex": 1,
     "pageSize": 10,
     "sortBy": [],
     "wrappedTextColumnIds": []
    },
    "execution_context_id": "6e5550ef-d52f-4c81-a24d-226ab0f16432",
    "execution_millis": 150233,
    "execution_start": 1736951180298,
    "source_hash": "f4608303"
   },
   "outputs": [],
   "source": [
    "nest_asyncio.apply()\n",
    "\n",
    "free_dblp = planes[0] #type: Plan\n",
    "dblp_subscription = Subscription(free_dblp, 'https://dblp.org/search/publ/api')\n",
    "time_simulation = TimeDuration(2.5, TimeUnit.MINUTE)\n",
    "\n",
    "asyncio.run(dblp_subscription.api_usage_simulator_async(time_simulation))"
   ]
  },
  {
   "cell_type": "markdown",
   "metadata": {
    "cell_id": "25362f233f2c41f58938f2d1601e65eb",
    "deepnote_cell_type": "markdown"
   },
   "source": [
    "¿Obtenemos el resultado esperado? Para entenderlo mejor vamos a introducir el concepto de curva de capacidad.\n",
    "\n",
    "---\n",
    "\n",
    "- ¿Qué es una curva de capacidad?\n",
    "- ¿Cómo se relaciona con los límites de consumo de una API?\n",
    "\n",
    "---\n",
    "\n",
    "Es una representación del número máximo de solicitudes que podemos realizar a lo largo del tiempo, considerando las cuotas del plan y los intervalos de tiempo establecidos. Nos muestra cuántas solicitudes podríamos haber consumido en un momento dado si respetamos estrictamente los límites.\n"
   ]
  },
  {
   "cell_type": "code",
   "execution_count": null,
   "metadata": {
    "cell_id": "d856c8f40ae44e95b5f4ae2d14af14ce",
    "deepnote_cell_type": "code",
    "execution_context_id": "6e5550ef-d52f-4c81-a24d-226ab0f16432",
    "execution_millis": 242,
    "execution_start": 1736951330582,
    "source_hash": "dcda1bcf"
   },
   "outputs": [],
   "source": [
    "free_dblp.show_available_capacity_curve(TimeDuration(2.5, TimeUnit.MINUTE))"
   ]
  },
  {
   "cell_type": "markdown",
   "metadata": {
    "cell_id": "7839278728344bab8bff7db1441ffef8",
    "deepnote_cell_type": "markdown"
   },
   "source": [
    "**¿Hemos respetado los límites de consumo de la API de DBLP?**\n",
    "\n",
    "En la simulación previa no hemos obtenido errores 429, aún así para realmente garantizar que no hemos excedido los límites, la curva de demanada (el consumo real de las solicitudes) siempre debe mantenerse por **debajo o igual** a la curva de capacidad ideal. De lo contrario, podríamos exceder los límites de consumo y recibir errores 429.\n",
    "\n",
    "**En color azul vemos como se muestra la curva de la demanda, y en verde la curva de la capacidad ideal.**\n",
    "\n"
   ]
  },
  {
   "cell_type": "code",
   "execution_count": null,
   "metadata": {
    "cell_id": "60e9362d427943c79bac16d032d19fb4",
    "deepnote_cell_type": "code",
    "execution_context_id": "6e5550ef-d52f-4c81-a24d-226ab0f16432",
    "execution_millis": 196,
    "execution_start": 1736951330886,
    "source_hash": "6291cb3b"
   },
   "outputs": [],
   "source": [
    "dblp_subscription.demand_curve_vs_ideal_capacity()"
   ]
  },
  {
   "cell_type": "markdown",
   "metadata": {
    "cell_id": "23a134f95c8140df89356d96f3fc339d",
    "deepnote_cell_type": "markdown"
   },
   "source": [
    "El código anterior tiene en cuenta todo el tiempo que estamos suscritos, por tanto la curva sigue creciendo conforme pasa el tiempo. Mostrando la demanda actual de las solicitudes.\n",
    "\n",
    "Para observar en el siguiente ejemplo podemos observar una curva limitada a la duración que deseemos, sin que crezca con el tiempo. Prueba a cambiar la simulación a 1 minuto y este código siempre devolvería la misma curva."
   ]
  },
  {
   "cell_type": "code",
   "execution_count": null,
   "metadata": {
    "cell_id": "1fc4d229a5c840d681ae36a4ce981797",
    "deepnote_cell_type": "code",
    "execution_context_id": "6e5550ef-d52f-4c81-a24d-226ab0f16432",
    "execution_millis": 202,
    "execution_start": 1736951331135,
    "source_hash": "720493fa"
   },
   "outputs": [],
   "source": [
    "dblp_subscription.demand_curve_vs_ideal_capacity(shortened=True, time_simulation=TimeDuration(2.5, TimeUnit.MINUTE))"
   ]
  },
  {
   "cell_type": "markdown",
   "metadata": {
    "cell_id": "394322e083e34d89b26a1810a37be14b",
    "deepnote_cell_type": "markdown"
   },
   "source": []
  },
  {
   "cell_type": "markdown",
   "metadata": {
    "cell_id": "34bc8f61de8346a4b42118aae91e689e",
    "deepnote_cell_type": "markdown"
   },
   "source": [
    "---\n",
    "\n",
    "## ¿Cuántas solicitudes puedes hacer?\n",
    "\n",
    "Basándonos en lo que sabemos sobre la API, intenta responder a las siguientes preguntas. Usa los valores de **rate** y **cuota** para responder:\n",
    "\n",
    "1. ¿Cuántas solicitudes se pueden hacer en:\n",
    "   - 10 segundos?\n",
    "   - 1 minuto?\n",
    "   - 1 minuto y 1 segundo?\n",
    "\n",
    "---\n",
    "\n",
    "Para responder con precisión a estas preguntas, necesitamos una función que calcule el número máximo de solicitudes permitidas en un período \\( t \\), respetando tanto el **rate** como la **cuota** del plan.\n"
   ]
  },
  {
   "cell_type": "markdown",
   "metadata": {
    "cell_id": "95333bae63bb4dc988e1ccd74488668f",
    "deepnote_cell_type": "markdown"
   },
   "source": [
    "### Ejercicio: Implementar capacity(t)"
   ]
  },
  {
   "cell_type": "markdown",
   "metadata": {
    "cell_id": "2bee29ac531945fba8775495797d0f50",
    "deepnote_cell_type": "markdown"
   },
   "source": [
    "La función `capacity(t)` ya está implementada en la clase `Plan`. Vamos a probarla en distintos escenarios:"
   ]
  },
  {
   "cell_type": "code",
   "execution_count": null,
   "metadata": {
    "cell_id": "dd1dea4e7b1f4473a20397aeaf05390a",
    "deepnote_cell_type": "code",
    "execution_context_id": "6e5550ef-d52f-4c81-a24d-226ab0f16432",
    "execution_millis": 0,
    "execution_start": 1736951331387,
    "source_hash": "79d2bea2"
   },
   "outputs": [],
   "source": [
    "time_simulation_9s = TimeDuration(9, TimeUnit.SECOND)\n",
    "time_simulation_59s = TimeDuration(59, TimeUnit.SECOND)\n",
    "time_simulation_1min = TimeDuration(1, TimeUnit.MINUTE)\n",
    "time_simulation_1min_1s = TimeDuration(1, TimeUnit.MINUTE) + TimeDuration(1, TimeUnit.SECOND)\n",
    "\n",
    "capacity_9s = free_dblp.available_capacity(time_simulation_9s, len(free_dblp.limits)-1)\n",
    "capacity_59s = free_dblp.available_capacity(time_simulation_59s, len(free_dblp.limits)-1)\n",
    "capacity_1min = free_dblp.available_capacity(time_simulation_1min, len(free_dblp.limits)-1)\n",
    "capacity_1min_1s = free_dblp.available_capacity(time_simulation_1min_1s, len(free_dblp.limits)-1)\n",
    "\n",
    "print(f\"Capacidad para 9 segundos: {capacity_9s}\")\n",
    "print(f\"Capacidad para 59 segundos: {capacity_59s}\")\n",
    "print(f\"Capacidad para 1 minuto: {capacity_1min}\")\n",
    "print(f\"Capacidad para 1 minuto y 1 segundo: {capacity_1min_1s}\")\n",
    "\n"
   ]
  },
  {
   "cell_type": "markdown",
   "metadata": {
    "cell_id": "0798c5b0c8214ac3bfb4020d7d20c5ea",
    "deepnote_cell_type": "markdown"
   },
   "source": [
    "## ¡Prueba con los valores que tú quieras!"
   ]
  },
  {
   "cell_type": "code",
   "execution_count": null,
   "metadata": {
    "cell_id": "82df3b2709e3415f9b0b59ff54c8c618",
    "deepnote_cell_type": "code",
    "execution_context_id": "6e5550ef-d52f-4c81-a24d-226ab0f16432",
    "execution_millis": 68,
    "execution_start": 1736951331434,
    "source_hash": "3712aaa7"
   },
   "outputs": [],
   "source": [
    "time_simulation ="
   ]
  },
  {
   "cell_type": "markdown",
   "metadata": {
    "cell_id": "da8864c0fb424d49b84d20802d63b146",
    "deepnote_cell_type": "markdown"
   },
   "source": [
    "## ¿Cuánto tiempo necesitas para hacer X solicitudes?\n",
    "\n",
    "Usando los límites de la API (rate y cuota), intenta calcular cuánto tiempo tomaría realizar las siguientes solicitudes. Piensa si el rate o la cuota influirán más en el resultado:\n",
    "\n",
    "1. ¿Cuánto tiempo necesitas para realizar:\n",
    "   - 7 solicitudes?\n",
    "   - 8 solicitudes?\n",
    "   - 14 solicitudes?\n",
    "\n",
    "---\n",
    "\n",
    "Para responder estas preguntas, necesitamos una función, que calcule el tiempo mínimo necesario para realizar un número dado de solicitudes, respetando tanto el **rate** como la **cuota** del plan."
   ]
  },
  {
   "cell_type": "markdown",
   "metadata": {
    "cell_id": "d0fb505a31ad427a93d75410b0d50628",
    "deepnote_cell_type": "markdown"
   },
   "source": [
    "### Ejercicio: min_time(capacity_goal)"
   ]
  },
  {
   "cell_type": "markdown",
   "metadata": {
    "cell_id": "0920acac0cd84ee8b5459bbba00f2139",
    "deepnote_cell_type": "markdown"
   },
   "source": [
    "La función `min_time(capacity_goal)` ya está implementada en la clase `Plan`. Vamos a probarla en distintos escenarios:"
   ]
  },
  {
   "cell_type": "code",
   "execution_count": null,
   "metadata": {
    "cell_id": "ef45d4a8f44f4946a60ca2f5c4ec56f2",
    "deepnote_cell_type": "code",
    "deepnote_to_be_reexecuted": true,
    "execution_context_id": "5358c798-fd3b-470f-8c31-084400971218",
    "execution_millis": 2,
    "execution_start": 1736947784057,
    "source_hash": "5df59bf5"
   },
   "outputs": [],
   "source": [
    "# Tiempo necesario para realizar 7, 8 y 14 solicitudes\n",
    "time_7_requests = free_dblp.min_time(7, display=True)\n",
    "time_8_requests = free_dblp.min_time(8, display=True)\n",
    "time_14_requests = free_dblp.min_time(14, display=True)\n",
    "\n",
    "print(f\"Tiempo para 7 solicitudes: {time_7_requests}\")\n",
    "print(f\"Tiempo para 8 solicitudes: {time_8_requests}\")\n",
    "print(f\"Tiempo para 14 solicitudes: {time_14_requests}\")"
   ]
  },
  {
   "cell_type": "markdown",
   "metadata": {
    "cell_id": "2f2c43ac47bc475b81d3482e40454f25",
    "deepnote_cell_type": "markdown"
   },
   "source": [
    "## ¡Prueba con los valores que tú quieras!"
   ]
  },
  {
   "cell_type": "code",
   "execution_count": null,
   "metadata": {
    "cell_id": "9279c80b2bc54ae5a98f9c136c73d49e",
    "deepnote_cell_type": "code",
    "deepnote_to_be_reexecuted": true,
    "execution_context_id": "86cba65c-0c1b-40b3-b128-3df5a35ddc02",
    "execution_millis": 0,
    "execution_start": 1736930419014,
    "source_hash": "d0da491d"
   },
   "outputs": [],
   "source": [
    "time_x_requests = free_dblp.min_time(1000)\n",
    "\n",
    "print(f\"Tiempo para 100 solicitudes: {time_x_requests}\")\n"
   ]
  },
  {
   "cell_type": "markdown",
   "metadata": {
    "cell_id": "ee52cea756b348b7b2e1f37ceccfd05c",
    "deepnote_cell_type": "markdown"
   },
   "source": [
    "# EJERCICIO: Prueba ahora con la siguiente API\n",
    "\n",
    "Constrúyete tu propio Pricing con un Plan inventado.\n",
    "\n",
    "Usa el siguiente endpoint `https://www.el-tiempo.net/api/json/v2/provincias`\n",
    "\n",
    "Sigue los pasos anteriores e intenta ver la respuesta que obtienes. Prueba con los límites, verás la curva de la demanda y de la capacidad ideal, y te encontrarás con los problemas de no especificar los límites 😉.\n",
    "\n",
    "Puedes probar a eliminar el rate unitario, jugar con las cuotas..."
   ]
  },
  {
   "cell_type": "code",
   "execution_count": null,
   "metadata": {
    "cell_id": "d69e4bfeff6e4ca6b88e101670aaf4d8",
    "deepnote_cell_type": "code",
    "deepnote_to_be_reexecuted": true
   },
   "outputs": [],
   "source": [
    "eltiempo_yaml = \"\"\"\n",
    "!Pricing\n",
    "ElTiempo Pricing:\n",
    "  metrics:\n",
    "    name: requests\n",
    "  plans:\n",
    "    Free Tiempo:\n",
    "      cost: 0.0\n",
    "      billing_cycle:\n",
    "        value: 1\n",
    "        unit: month\n",
    "      unitary_rate: \n",
    "        /*:\n",
    "          all:\n",
    "            requests:\n",
    "              period:\n",
    "                value: \n",
    "                unit:\n",
    "      quotas:\n",
    "        /*:\n",
    "          all:\n",
    "            requests:\n",
    "\n",
    "        \n",
    "\"\"\""
   ]
  },
  {
   "cell_type": "markdown",
   "metadata": {
    "cell_id": "1f91da62940e41eab9df6b450a81756a",
    "deepnote_cell_type": "markdown"
   },
   "source": []
  },
  {
   "cell_type": "markdown",
   "metadata": {
    "created_in_deepnote_cell": true,
    "deepnote_cell_type": "markdown"
   },
   "source": [
    "<a style='text-decoration:none;line-height:16px;display:flex;color:#5B5B62;padding:10px;justify-content:end;' href='https://deepnote.com?utm_source=created-in-deepnote-cell&projectId=bfc07943-bcc8-48e2-8be3-26469867b14f' target=\"_blank\">\n",
    "<img alt='Created in deepnote.com' style='display:inline;max-height:16px;margin:0px;margin-right:7.5px;' src='data:image/svg+xml;base64,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' > </img>\n",
    "Created in <span style='font-weight:600;margin-left:4px;'>Deepnote</span></a>"
   ]
  }
 ],
 "metadata": {
  "deepnote_notebook_id": "c5d1335c930f48a19a2559ead3dfb459",
  "kernelspec": {
   "display_name": ".venv",
   "language": "python",
   "name": "python3"
  },
  "language_info": {
   "codemirror_mode": {
    "name": "ipython",
    "version": 3
   },
   "file_extension": ".py",
   "mimetype": "text/x-python",
   "name": "python",
   "nbconvert_exporter": "python",
   "pygments_lexer": "ipython3",
   "version": "3.10.11"
  }
 },
 "nbformat": 4,
 "nbformat_minor": 0
}
