{
 "cells": [
  {
   "cell_type": "markdown",
   "metadata": {
    "cell_id": "f9601756c66848909578539c6ac60acb",
    "deepnote_cell_type": "markdown"
   },
   "source": [
    "# Notebook Title\n",
    "# Conformity Capacity Test for Amadeus API\n",
    "\n",
    "---\n",
    "### Purpose\n",
    "The purpose of this notebook is to validate the behavior of the Amadeus API against the rate limits specified in its documentation.\n",
    "\n",
    "\n",
    "\n",
    "According to the documentation, the following limits apply:\n",
    "1. A maximum of 10 transactions per second, per user.\n",
    "2. No more than 1 request every 100 ms.\n",
    "\n",
    "This notebook implements a `ConformityCapacityTest` class to simulate API usage and verify if these rules are respected. \n",
    "The class is currently tailored to work with the Amadeus API due to the authentication and headers required, \n",
    "but it can be extended to other APIs by providing the necessary headers and configurations.\n",
    "\n",
    "We will run a test with the provided rate limits and log any inconsistencies.\n"
   ]
  },
  {
   "cell_type": "markdown",
   "metadata": {
    "cell_id": "8b9e456d199b41d284d00084cde2b67a",
    "deepnote_cell_type": "image",
    "deepnote_img_src": "image-20250115-012858.png"
   },
   "source": [
    "<img src=\"image-20250115-012858.png\" width=\"\" align=\"\" />"
   ]
  },
  {
   "cell_type": "markdown",
   "metadata": {
    "cell_id": "4a938a82ca0d470fbaa9364db0c0653b",
    "deepnote_cell_type": "markdown"
   },
   "source": [
    "\n",
    "### Observations\n",
    "- The test results will include logs of each API request with timestamps and HTTP statuses.\n",
    "- At the end of the test, a summary will show:\n",
    "    - Total requests made\n",
    "    - Number of 429 errors (Rate limit exceeded)\n",
    "    - Number of connection errors\n",
    "    - Any other errors observed\n",
    "\n",
    "### Expected Behavior\n",
    "If the Amadeus API adheres to its specified limits:\n",
    "1. All requests should succeed if the interval between requests is at least 100 ms.\n",
    "2. Any deviation (e.g., frequent 429 errors or unexplained connection errors) will indicate a discrepancy.\n",
    "\n",
    "### Extensibility\n",
    "The `ConformityCapacityTest` class can be easily extended for other APIs by:\n",
    "- Providing the necessary headers for authentication. (WIP)\n",
    "- Adjusting the rate limits as per the target API's documentation."
   ]
  },
  {
   "cell_type": "markdown",
   "metadata": {
    "cell_id": "10e69c35cbab4e6f8ccebe12db0ce6c5",
    "deepnote_cell_type": "markdown"
   },
   "source": []
  },
  {
   "cell_type": "code",
   "execution_count": 2,
   "metadata": {
    "cell_id": "03462c384abe47e399289252d2a5c2fb",
    "deepnote_cell_type": "code",
    "execution_context_id": "6fa5a6be-90b3-425a-acd8-4cf226247fda",
    "execution_millis": 995,
    "execution_start": 1736953945595,
    "source_hash": "dcc2f64f"
   },
   "outputs": [],
   "source": [
    "from Pricing4API.main.conformity_capacity import ConformityCapacityTest\n",
    "\n",
    "RATE_WAIT_PERIOD = 0.1  \n",
    "RATE_VALUE = 1  \n",
    "TOTAL_REQUESTS = 10\n",
    "URL = \"https://test.api.amadeus.com/v1/reference-data/locations\" \n",
    "PARAMS = {\n",
    "    'keyword': 'LON', \n",
    "    'subType': 'AIRPORT'\n",
    "}\n",
    "\n",
    "# Note: Authentication is handled automatically within the ConformityCapacityTest class, and only works\n",
    "# with the Amadeus API, not with other APIs. For demonstration purposes, we will provide the necessary headers.\n",
    "# The headers can be adjusted but remains to be implemented.\n",
    "\n"
   ]
  },
  {
   "cell_type": "markdown",
   "metadata": {
    "cell_id": "990a2a4d3ea84738bcce8242fd99a4a5",
    "deepnote_cell_type": "markdown"
   },
   "source": [
    "The endpoint we are testing belongs to the Flighs API, which is not in the List of APIs that Amadeus qualifies as *AI and Partners' APIs* which have a different rate limit. It can be checked in the following link: [Amadeus Rate Limits](https://developers.amadeus.com/self-service/apis-docs/guides/developer-guides/api-rate-limits/).\n",
    "\n",
    "In effect, the rate limits are set to 10 requests per second per user, and no more than 1 request every 100 ms. \n",
    "\n",
    "Let us see how it behaves:"
   ]
  },
  {
   "cell_type": "code",
   "execution_count": null,
   "metadata": {
    "cell_id": "f566964fed38477ca6882b0917469be9",
    "deepnote_cell_type": "code",
    "execution_context_id": "6fa5a6be-90b3-425a-acd8-4cf226247fda",
    "execution_millis": 1964,
    "execution_start": 1736953946642,
    "source_hash": "f7ce8a79"
   },
   "outputs": [],
   "source": [
    "import nest_asyncio\n",
    "\n",
    "nest_asyncio.apply()\n",
    "\n",
    "test = ConformityCapacityTest(\n",
    "    rate_wait_period=RATE_WAIT_PERIOD,\n",
    "    total_requests=TOTAL_REQUESTS,\n",
    "    rate_value=RATE_VALUE,\n",
    "    url=URL,\n",
    "    params=PARAMS\n",
    ")\n",
    "\n",
    "\n",
    "test.execute()\n"
   ]
  },
  {
   "cell_type": "markdown",
   "metadata": {
    "cell_id": "fbf37fc4fb744fa69e7bfe9203dd74a0",
    "deepnote_cell_type": "markdown"
   },
   "source": [
    "## Analysis of Results\n",
    "\n",
    "This code demonstrates that the Amadeus API appears to be providing misleading information regarding its rate limits. \n",
    "\n",
    "According to the official documentation:\n",
    "1. **Maximum of 10 transactions per second, per user**.\n",
    "2. **No more than 1 request every 100ms**.\n",
    "\n",
    "However, during the execution of this test:\n",
    "- **429 (Rate Limit Exceeded)** errors were observed, even when the script adhered to the specified 100ms interval between requests.\n",
    "- This inconsistency raises concerns about whether the actual implementation of rate limiting by Amadeus matches its published specifications.\n",
    "\n",
    "### Key Findings:\n",
    "1. The script respects the rate limit by ensuring only 1 request is made every 100ms, yet multiple 429 errors are encountered.\n",
    "2. This behavior suggests that the actual rate-limiting mechanism of Amadeus may impose stricter limits than documented or that other factors (e.g., internal system latencies) are at play.\n",
    "\n",
    "\n",
    "### Conclusion:\n",
    "This test demonstrates the importance of verifying API documentation with real-world experiments, as discrepancies like these can significantly impact system design and reliability.\n"
   ]
  },
  {
   "cell_type": "markdown",
   "metadata": {
    "cell_id": "d7037de17b834199807421ad83b93756",
    "deepnote_cell_type": "markdown"
   },
   "source": [
    "---\n",
    "\n",
    "## Extended Test: Increasing the Interval to 500ms\n",
    "\n",
    "In this section, we tested the Amadeus API by increasing the interval between requests to **500ms**  (2 requests per second). This test aims to observe if a larger interval reduces the number of `429 (Rate Limit Exceeded)` errors.\n",
    "\n",
    "### Observations:\n",
    "1. **Reduction in Errors**: Compared to the 100ms interval, the number of `429` errors decreased significantly when using a 500ms interval.\n",
    "2. **Inconsistent Behavior**: Despite spacing the requests at 500ms intervals, we still encountered some `429` errors, which raises questions about the exact implementation of Amadeus's rate-limiting mechanism.\n",
    "3. **Cannot Guarantee Reliability**: The continued presence of occasional errors, even with conservative spacing, prevents us from confidently relying on the documented limits.\n",
    "\n",
    "### Key Findings:\n",
    "- Increasing the request interval appears to improve reliability, but it does not eliminate errors entirely.\n",
    "- This inconsistency indicates that the Amadeus rate-limiting rules may involve additional factors (e.g., user-specific quotas, shared resources, or undocumented constraints).\n",
    "\n",
    "### Try it Out:\n",
    "\n",
    "You can test this script by tweaking the configuration parameters `RATE_WAIT_PERIOD` and `RATE_VALUE`:\n",
    "\n",
    "- **`RATE_WAIT_PERIOD`**: The span of time between individual requests (in seconds). For instance, `0.1` represents a 100ms interval.\n",
    "- **`RATE_VALUE`**: The number of requests sent as a \"burst\" within each interval. A value of `1` ensures that only one request is sent every `RATE_WAIT_PERIOD`.\n",
    "\n",
    "**Example**:\n",
    "```python\n",
    "RATE_WAIT_PERIOD = 0.1  # Time interval between requests (100ms)\n",
    "RATE_VALUE = 1  # Single request per interval\n",
    "TOTAL_REQUESTS = 15  # Total number of requests to simulate\n",
    "```\n",
    "\n",
    "---\n",
    "\n",
    "### ⚠️ Disclaimer: Be Careful with the Quota\n",
    "\n",
    "In the **Test Plan** (free tier), you are limited to **2,000 requests per month**. Ensure that you monitor your usage to avoid exceeding this quota.\n",
    "\n",
    "If you exceed the limit, you may encounter errors or temporary access restrictions.\n",
    "\n",
    "To avoid depleting your quota:\n",
    "- Use conservative values for `TOTAL_REQUESTS`.\n",
    "- Experiment with endpoints and parameters to focus only on relevant queries.\n",
    "\n",
    "#### Alternative Endpoint Example:\n",
    "```python\n",
    "URL = \"https://test.api.amadeus.com/v1/reference-data/locations\"\n",
    "PARAMS = {\n",
    "    \"keyword\": \"LON\",\n",
    "    \"subType\": \"AIRPORT\"\n",
    "}\n",
    "\n"
   ]
  },
  {
   "cell_type": "code",
   "execution_count": null,
   "metadata": {
    "cell_id": "e9d912d50f43472b9436620db1b261e2",
    "deepnote_cell_type": "code",
    "execution_context_id": "6fa5a6be-90b3-425a-acd8-4cf226247fda",
    "execution_millis": 25370,
    "execution_start": 1736953948654,
    "source_hash": "f6796fd5"
   },
   "outputs": [],
   "source": [
    "RATE_WAIT_PERIOD = 0.5 \n",
    "RATE_VALUE = 1  \n",
    "TOTAL_REQUESTS = 50\n",
    "\n",
    "test = ConformityCapacityTest(\n",
    "    rate_wait_period=RATE_WAIT_PERIOD,\n",
    "    total_requests=TOTAL_REQUESTS,\n",
    "    rate_value=RATE_VALUE,\n",
    "    url=URL,\n",
    "    params=PARAMS\n",
    ")\n",
    "\n",
    "\n",
    "test.execute()"
   ]
  },
  {
   "cell_type": "markdown",
   "metadata": {
    "created_in_deepnote_cell": true,
    "deepnote_cell_type": "markdown"
   },
   "source": [
    "<a style='text-decoration:none;line-height:16px;display:flex;color:#5B5B62;padding:10px;justify-content:end;' href='https://deepnote.com?utm_source=created-in-deepnote-cell&projectId=bfc07943-bcc8-48e2-8be3-26469867b14f' target=\"_blank\">\n",
    "<img alt='Created in deepnote.com' style='display:inline;max-height:16px;margin:0px;margin-right:7.5px;' src='data:image/svg+xml;base64,PD94bWwgdmVyc2lvbj0iMS4wIiBlbmNvZGluZz0iVVRGLTgiPz4KPHN2ZyB3aWR0aD0iODBweCIgaGVpZ2h0PSI4MHB4IiB2aWV3Qm94PSIwIDAgODAgODAiIHZlcnNpb249IjEuMSIgeG1sbnM9Imh0dHA6Ly93d3cudzMub3JnLzIwMDAvc3ZnIiB4bWxuczp4bGluaz0iaHR0cDovL3d3dy53My5vcmcvMTk5OS94bGluayI+CiAgICA8IS0tIEdlbmVyYXRvcjogU2tldGNoIDU0LjEgKDc2NDkwKSAtIGh0dHBzOi8vc2tldGNoYXBwLmNvbSAtLT4KICAgIDx0aXRsZT5Hcm91cCAzPC90aXRsZT4KICAgIDxkZXNjPkNyZWF0ZWQgd2l0aCBTa2V0Y2guPC9kZXNjPgogICAgPGcgaWQ9IkxhbmRpbmciIHN0cm9rZT0ibm9uZSIgc3Ryb2tlLXdpZHRoPSIxIiBmaWxsPSJub25lIiBmaWxsLXJ1bGU9ImV2ZW5vZGQiPgogICAgICAgIDxnIGlkPSJBcnRib2FyZCIgdHJhbnNmb3JtPSJ0cmFuc2xhdGUoLTEyMzUuMDAwMDAwLCAtNzkuMDAwMDAwKSI+CiAgICAgICAgICAgIDxnIGlkPSJHcm91cC0zIiB0cmFuc2Zvcm09InRyYW5zbGF0ZSgxMjM1LjAwMDAwMCwgNzkuMDAwMDAwKSI+CiAgICAgICAgICAgICAgICA8cG9seWdvbiBpZD0iUGF0aC0yMCIgZmlsbD0iIzAyNjVCNCIgcG9pbnRzPSIyLjM3NjIzNzYyIDgwIDM4LjA0NzY2NjcgODAgNTcuODIxNzgyMiA3My44MDU3NTkyIDU3LjgyMTc4MjIgMzIuNzU5MjczOSAzOS4xNDAyMjc4IDMxLjY4MzE2ODMiPjwvcG9seWdvbj4KICAgICAgICAgICAgICAgIDxwYXRoIGQ9Ik0zNS4wMDc3MTgsODAgQzQyLjkwNjIwMDcsNzYuNDU0OTM1OCA0Ny41NjQ5MTY3LDcxLjU0MjI2NzEgNDguOTgzODY2LDY1LjI2MTk5MzkgQzUxLjExMjI4OTksNTUuODQxNTg0MiA0MS42NzcxNzk1LDQ5LjIxMjIyODQgMjUuNjIzOTg0Niw0OS4yMTIyMjg0IEMyNS40ODQ5Mjg5LDQ5LjEyNjg0NDggMjkuODI2MTI5Niw0My4yODM4MjQ4IDM4LjY0NzU4NjksMzEuNjgzMTY4MyBMNzIuODcxMjg3MSwzMi41NTQ0MjUgTDY1LjI4MDk3Myw2Ny42NzYzNDIxIEw1MS4xMTIyODk5LDc3LjM3NjE0NCBMMzUuMDA3NzE4LDgwIFoiIGlkPSJQYXRoLTIyIiBmaWxsPSIjMDAyODY4Ij48L3BhdGg+CiAgICAgICAgICAgICAgICA8cGF0aCBkPSJNMCwzNy43MzA0NDA1IEwyNy4xMTQ1MzcsMC4yNTcxMTE0MzYgQzYyLjM3MTUxMjMsLTEuOTkwNzE3MDEgODAsMTAuNTAwMzkyNyA4MCwzNy43MzA0NDA1IEM4MCw2NC45NjA0ODgyIDY0Ljc3NjUwMzgsNzkuMDUwMzQxNCAzNC4zMjk1MTEzLDgwIEM0Ny4wNTUzNDg5LDc3LjU2NzA4MDggNTMuNDE4MjY3Nyw3MC4zMTM2MTAzIDUzLjQxODI2NzcsNTguMjM5NTg4NSBDNTMuNDE4MjY3Nyw0MC4xMjg1NTU3IDM2LjMwMzk1NDQsMzcuNzMwNDQwNSAyNS4yMjc0MTcsMzcuNzMwNDQwNSBDMTcuODQzMDU4NiwzNy43MzA0NDA1IDkuNDMzOTE5NjYsMzcuNzMwNDQwNSAwLDM3LjczMDQ0MDUgWiIgaWQ9IlBhdGgtMTkiIGZpbGw9IiMzNzkzRUYiPjwvcGF0aD4KICAgICAgICAgICAgPC9nPgogICAgICAgIDwvZz4KICAgIDwvZz4KPC9zdmc+' > </img>\n",
    "Created in <span style='font-weight:600;margin-left:4px;'>Deepnote</span></a>"
   ]
  }
 ],
 "metadata": {
  "deepnote_full_width": false,
  "deepnote_notebook_id": "9844be682d4b4d0980e388ab9f60e4a5",
  "kernelspec": {
   "display_name": ".venv",
   "language": "python",
   "name": "python3"
  },
  "language_info": {
   "name": "python",
   "version": "3.10.11"
  }
 },
 "nbformat": 4,
 "nbformat_minor": 0
}
