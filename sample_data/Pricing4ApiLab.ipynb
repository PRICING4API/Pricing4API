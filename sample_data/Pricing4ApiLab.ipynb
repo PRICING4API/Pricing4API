{
 "cells": [
  {
   "cell_type": "code",
   "execution_count": 1,
   "metadata": {},
   "outputs": [],
   "source": [
    "import pandas as pd\n",
    "\n",
    "from Pricing4API.plan import Plan\n",
    "from Pricing4API.pricing import Pricing\n",
    "from Pricing4API.validationTest import *\n",
    "from Pricing4API.optimal_subscription import *\n",
    "\n",
    "s_second = 1\n",
    "s_minute= 60\n",
    "s_hour = 3600\n",
    "s_day = 3600 * 24\n",
    "s_month = 3600 * 24 * 30\n",
    "\n",
    "ListSendGrid=[]\n",
    "\n",
    "ListSendGrid.append(Plan('Basic', (0.0, s_month, 0.001), (10, s_second), [(1500, s_month)]))\n",
    "ListSendGrid.append(Plan('Pro', (9.95, s_month, 0.001), (10, s_second), [(40000, s_month)], 10))\n",
    "ListSendGrid.append(Plan('Ultra', (79.95, s_month, 0.00085), (10, s_second), [(100000, s_month)], 10))\n",
    "ListSendGrid.append(Plan('Mega', (199.95, s_month, 0.00005), (50, s_second), [(300000, s_month)], 50))\n",
    "\n",
    "PricingSendGrid = Pricing('SendGrid', ListSendGrid, 'mails')\n"
   ]
  },
  {
   "cell_type": "code",
   "execution_count": 11,
   "metadata": {},
   "outputs": [],
   "source": [
    "import pandas as pd\n",
    "\n",
    "from Pricing4API.plan import Plan\n",
    "from Pricing4API.pricing import Pricing\n",
    "from Pricing4API.validationTest import *\n",
    "from Pricing4API.utils import *\n",
    "\n",
    "s_second = 1\n",
    "s_minute= 60\n",
    "s_hour = 3600\n",
    "s_day = 3600 * 24\n",
    "s_month = 3600 * 24 * 30\n",
    "\n",
    "ListDBLP=[]\n",
    "ListDBLP.append(Plan('Pro', (9.99, 1, None), (1, 2*s_second), [(20, s_minute), (100, s_hour)]))\n",
    "\n",
    "PricingDBLP = Pricing('DBLP', ListDBLP, 'queries')\n",
    "PricingDBLP.link_plans()"
   ]
  },
  {
   "cell_type": "code",
   "execution_count": 4,
   "metadata": {
    "scrolled": false
   },
   "outputs": [
    {
     "name": "stdout",
     "output_type": "stream",
     "text": [
      "The best combination is 1 Basic, 2 Pro for a total price of 19.9 $\n"
     ]
    }
   ],
   "source": [
    "##Problema de la mochila. ¿A qué planes debo suscribirme para minimizar el precio para consumir n peticiones en un tiempo determinado?\n",
    "\n",
    "num_correos = 15000\n",
    "time = s_minute*20\n",
    "resultado_combinacion, mejor_precio = get_optimal_subscription(PricingSendGrid.plans, num_correos, time)\n",
    "\n"
   ]
  },
  {
   "cell_type": "code",
   "execution_count": 24,
   "metadata": {},
   "outputs": [
    {
     "name": "stdout",
     "output_type": "stream",
     "text": [
      "El numero de requests para el plan Pro de SendGrid es de: 461.0 requests en\n",
      "El numero de requests para el plan Pro de SendGrid es de: 2.0 requests en\n",
      "El numero de requests para el plan Pro de SendGrid es de: 2.0 requests en\n"
     ]
    }
   ],
   "source": [
    "#1 ¿Cuantas requests se pueden hacer en un periodo de 1 semana para el Pricing de Sengrid?\n",
    "\n",
    "for plan in PricingDBLP.plans:\n",
    "    \n",
    "    print(\"El numero de requests para el plan\", plan.name, \"de SendGrid es de:\", plan.available_capacity('4h3m', len(plan.limits) - 1),\"requests en\")\n",
    "    print(\"El numero de requests para el plan\", plan.name, \"de SendGrid es de:\", plan.available_capacity('2s', len(plan.limits) - 1),\"requests en\")\n",
    "    print(\"El numero de requests para el plan\", plan.name, \"de SendGrid es de:\", plan.available_capacity('3s', len(plan.limits) - 1),\"requests en\")"
   ]
  },
  {
   "cell_type": "code",
   "execution_count": 30,
   "metadata": {},
   "outputs": [
    {
     "name": "stdout",
     "output_type": "stream",
     "text": [
      "El tiempo que tarda el plan Pro de Pro en consumir 10403 requests es de: 4d8h4s\n"
     ]
    }
   ],
   "source": [
    "#2 ¿Cuánto tiempo necesita cada plan para hacer el numero máximo de request posibles en un instante t?\n",
    "\n",
    "capacidad=10403\n",
    "\n",
    "for plan in PricingDBLP.plans:\n",
    "    print(\"El tiempo que tarda el plan\", plan.name, \"de\", plan.name, \"en consumir\", capacidad, \"requests es de:\", format_time(plan.min_time(capacidad\n",
    "                        )))"
   ]
  },
  {
   "cell_type": "code",
   "execution_count": 6,
   "metadata": {},
   "outputs": [
    {
     "name": "stdout",
     "output_type": "stream",
     "text": [
      "El tiempo que estaría el plan Pro de PricingDBLP sin consumir es de: 60.0\n"
     ]
    }
   ],
   "source": [
    "#3 ¿Cuánto tiempo estaría cada plan sin consumir desde que se ha alcanzado la capacidad máxima en un instante t?\n",
    "tiempo=38\n",
    "    \n",
    "for plan in PricingDBLP.plans: \n",
    "    period_q = plan.limits[1][1]\n",
    "    wastage_threshold = plan.compute_t_ast()\n",
    "    print(f\"El tiempo que estaría el plan {plan.name} de PricingDBLP sin consumir es de: {tiempo+(period_q-wastage_threshold[1])}\")"
   ]
  },
  {
   "cell_type": "code",
   "execution_count": 7,
   "metadata": {},
   "outputs": [
    {
     "ename": "AttributeError",
     "evalue": "'Plan' object has no attribute 'max_capacity'",
     "output_type": "error",
     "traceback": [
      "\u001b[0;31m---------------------------------------------------------------------------\u001b[0m",
      "\u001b[0;31mAttributeError\u001b[0m                            Traceback (most recent call last)",
      "\u001b[0;32m<ipython-input-7-06bdafe5aa96>\u001b[0m in \u001b[0;36m<module>\u001b[0;34m()\u001b[0m\n\u001b[1;32m     27\u001b[0m \u001b[0mnum_correos\u001b[0m \u001b[0;34m=\u001b[0m \u001b[0;36m1312\u001b[0m\u001b[0;34m\u001b[0m\u001b[0;34m\u001b[0m\u001b[0m\n\u001b[1;32m     28\u001b[0m \u001b[0mtiempo\u001b[0m \u001b[0;34m=\u001b[0m \u001b[0;36m3600\u001b[0m\u001b[0;34m\u001b[0m\u001b[0;34m\u001b[0m\u001b[0m\n\u001b[0;32m---> 29\u001b[0;31m \u001b[0mresultado_suscripciones\u001b[0m\u001b[0;34m,\u001b[0m \u001b[0mtotal_suscripciones\u001b[0m\u001b[0;34m,\u001b[0m \u001b[0mtotal_precio\u001b[0m \u001b[0;34m=\u001b[0m \u001b[0mcalcular_suscripciones\u001b[0m\u001b[0;34m(\u001b[0m\u001b[0mPricingSendGrid\u001b[0m\u001b[0;34m.\u001b[0m\u001b[0mplans\u001b[0m\u001b[0;34m,\u001b[0m \u001b[0mnum_correos\u001b[0m\u001b[0;34m,\u001b[0m \u001b[0mtiempo\u001b[0m\u001b[0;34m)\u001b[0m\u001b[0;34m\u001b[0m\u001b[0;34m\u001b[0m\u001b[0m\n\u001b[0m\u001b[1;32m     30\u001b[0m \u001b[0;34m\u001b[0m\u001b[0m\n\u001b[1;32m     31\u001b[0m \u001b[0mprint\u001b[0m\u001b[0;34m(\u001b[0m\u001b[0;34mf\"Se necesitan las siguientes suscripciones para realizar {num_correos} requests en {format_time(tiempo)}:\"\u001b[0m\u001b[0;34m)\u001b[0m\u001b[0;34m\u001b[0m\u001b[0;34m\u001b[0m\u001b[0m\n",
      "\u001b[0;32m<ipython-input-7-06bdafe5aa96>\u001b[0m in \u001b[0;36mcalcular_suscripciones\u001b[0;34m(plans, num_correos, tiempo)\u001b[0m\n\u001b[1;32m      8\u001b[0m \u001b[0;34m\u001b[0m\u001b[0m\n\u001b[1;32m      9\u001b[0m     \u001b[0;32mfor\u001b[0m \u001b[0mplan\u001b[0m \u001b[0;32min\u001b[0m \u001b[0mplans\u001b[0m\u001b[0;34m:\u001b[0m\u001b[0;34m\u001b[0m\u001b[0;34m\u001b[0m\u001b[0m\n\u001b[0;32m---> 10\u001b[0;31m         \u001b[0mcapacidad_en_tiempo\u001b[0m \u001b[0;34m=\u001b[0m \u001b[0mplan\u001b[0m\u001b[0;34m.\u001b[0m\u001b[0mmax_capacity\u001b[0m\u001b[0;34m(\u001b[0m\u001b[0mtiempo\u001b[0m\u001b[0;34m)\u001b[0m\u001b[0;34m\u001b[0m\u001b[0;34m\u001b[0m\u001b[0m\n\u001b[0m\u001b[1;32m     11\u001b[0m         \u001b[0msuscripciones_disponibles\u001b[0m \u001b[0;34m=\u001b[0m \u001b[0mplan\u001b[0m\u001b[0;34m.\u001b[0m\u001b[0mmax_number_of_subscriptions\u001b[0m\u001b[0;34m\u001b[0m\u001b[0;34m\u001b[0m\u001b[0m\n\u001b[1;32m     12\u001b[0m \u001b[0;34m\u001b[0m\u001b[0m\n",
      "\u001b[0;31mAttributeError\u001b[0m: 'Plan' object has no attribute 'max_capacity'"
     ]
    }
   ],
   "source": [
    "# 4: ¿Es posible enviar 40000 correos en 1 hora (asumiendo los limites de suscripción indicados en el pricing)?  \n",
    "# Este codgio responde a la pregunta en conjunto para un pricing\n",
    "\n",
    "def calcular_suscripciones(plans, num_correos, tiempo):\n",
    "    suscripciones_utilizadas = []\n",
    "    total_suscripciones = 0\n",
    "    total_precio = 0\n",
    "    \n",
    "    for plan in plans:\n",
    "        capacidad_en_tiempo = plan.max_capacity(tiempo)\n",
    "        suscripciones_disponibles = plan.max_number_of_subscriptions\n",
    "        \n",
    "        suscripciones_necesarias = math.ceil(num_correos / capacidad_en_tiempo)\n",
    "        suscripciones_a_utilizar = min(suscripciones_necesarias, suscripciones_disponibles)\n",
    "        \n",
    "        suscripciones_utilizadas.append((plan.name, suscripciones_a_utilizar))\n",
    "        total_suscripciones += suscripciones_a_utilizar\n",
    "        num_correos -= capacidad_en_tiempo * suscripciones_a_utilizar\n",
    "        total_precio += suscripciones_a_utilizar * plan.price\n",
    "        \n",
    "        if num_correos <= 0:\n",
    "            break\n",
    "    \n",
    "    return suscripciones_utilizadas, total_suscripciones, total_precio\n",
    "\n",
    "# Llamada a la función con los planes definidos, el número de correos a enviar y el tiempo en segundos\n",
    "num_correos = 1312\n",
    "tiempo = 3600\n",
    "resultado_suscripciones, total_suscripciones, total_precio = calcular_suscripciones(PricingSendGrid.plans, num_correos, tiempo)\n",
    "\n",
    "print(f\"Se necesitan las siguientes suscripciones para realizar {num_correos} requests en {format_time(tiempo)}:\")\n",
    "for plan, suscripciones in resultado_suscripciones:\n",
    "    print(f\"{suscripciones} suscripción del plan {plan}\")\n",
    "\n",
    "print(f\"Total de suscripciones necesarias: {total_suscripciones}\")\n",
    "print(f\"Precio total de suscripciones: {total_precio}\")\n"
   ]
  },
  {
   "cell_type": "code",
   "execution_count": null,
   "metadata": {},
   "outputs": [],
   "source": []
  },
  {
   "cell_type": "code",
   "execution_count": null,
   "metadata": {},
   "outputs": [],
   "source": []
  },
  {
   "cell_type": "code",
   "execution_count": null,
   "metadata": {},
   "outputs": [],
   "source": []
  },
  {
   "cell_type": "markdown",
   "metadata": {},
   "source": [
    " "
   ]
  }
 ],
 "metadata": {
  "kernelspec": {
   "display_name": "Python 3",
   "language": "python",
   "name": "python3"
  },
  "language_info": {
   "codemirror_mode": {
    "name": "ipython",
    "version": 3
   },
   "file_extension": ".py",
   "mimetype": "text/x-python",
   "name": "python",
   "nbconvert_exporter": "python",
   "pygments_lexer": "ipython3",
   "version": "3.7.3"
  }
 },
 "nbformat": 4,
 "nbformat_minor": 2
}
