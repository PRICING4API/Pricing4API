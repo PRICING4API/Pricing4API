{
 "cells": [
  {
   "cell_type": "code",
   "execution_count": 1,
   "metadata": {},
   "outputs": [
    {
     "name": "stdout",
     "output_type": "stream",
     "text": [
      "Processing ./Pricing4API-0.2.1.tar.gz\n",
      "Installing collected packages: Pricing4API\n",
      "  Found existing installation: Pricing4API 0.2.1\n",
      "    Uninstalling Pricing4API-0.2.1:\n",
      "      Successfully uninstalled Pricing4API-0.2.1\n",
      "  Running setup.py install for Pricing4API ... \u001b[?25ldone\n",
      "\u001b[?25hSuccessfully installed Pricing4API-0.2.1\n"
     ]
    }
   ],
   "source": [
    "!pip install ./Pricing4API-0.2.1.tar.gz"
   ]
  },
  {
   "cell_type": "code",
   "execution_count": 2,
   "metadata": {},
   "outputs": [],
   "source": [
    "import Pricing4API"
   ]
  },
  {
   "cell_type": "code",
   "execution_count": 3,
   "metadata": {},
   "outputs": [
    {
     "data": {
      "text/html": [
       "<div>\n",
       "<style scoped>\n",
       "    .dataframe tbody tr th:only-of-type {\n",
       "        vertical-align: middle;\n",
       "    }\n",
       "\n",
       "    .dataframe tbody tr th {\n",
       "        vertical-align: top;\n",
       "    }\n",
       "\n",
       "    .dataframe thead th {\n",
       "        text-align: right;\n",
       "    }\n",
       "</style>\n",
       "<table border=\"1\" class=\"dataframe\">\n",
       "  <thead>\n",
       "    <tr style=\"text-align: right;\">\n",
       "      <th></th>\n",
       "      <th>0</th>\n",
       "    </tr>\n",
       "  </thead>\n",
       "  <tbody>\n",
       "    <tr>\n",
       "      <th></th>\n",
       "      <td>Pro</td>\n",
       "    </tr>\n",
       "    <tr>\n",
       "      <th>Rate (queries/2s)</th>\n",
       "      <td>1</td>\n",
       "    </tr>\n",
       "    <tr>\n",
       "      <th>Quota</th>\n",
       "      <td>[20, 1000]</td>\n",
       "    </tr>\n",
       "    <tr>\n",
       "      <th>Quota Unit</th>\n",
       "      <td>[1m, 1h]</td>\n",
       "    </tr>\n",
       "    <tr>\n",
       "      <th>Base Cost ($/1s)</th>\n",
       "      <td>9.99</td>\n",
       "    </tr>\n",
       "    <tr>\n",
       "      <th>Unit Overage Cost ($/queries)</th>\n",
       "      <td>None</td>\n",
       "    </tr>\n",
       "    <tr>\n",
       "      <th>Max Number of Subscriptions</th>\n",
       "      <td>1</td>\n",
       "    </tr>\n",
       "  </tbody>\n",
       "</table>\n",
       "</div>"
      ],
      "text/plain": [
       "                                        0\n",
       "                                      Pro\n",
       "Rate (queries/2s)                       1\n",
       "Quota                          [20, 1000]\n",
       "Quota Unit                       [1m, 1h]\n",
       "Base Cost ($/1s)                     9.99\n",
       "Unit Overage Cost ($/queries)        None\n",
       "Max Number of Subscriptions             1"
      ]
     },
     "execution_count": 3,
     "metadata": {},
     "output_type": "execute_result"
    }
   ],
   "source": [
    "import pandas as pd\n",
    "\n",
    "from Pricing4API.plan import Plan\n",
    "from Pricing4API.pricing import Pricing\n",
    "from Pricing4API.validationTest import *\n",
    "\n",
    "s_second = 1\n",
    "s_minute= 60\n",
    "s_hour = 3600\n",
    "s_day = 3600 * 24\n",
    "s_month = 3600 * 24 * 30\n",
    "\n",
    "ListDBLP=[]\n",
    "ListDBLP.append(Plan('Pro', (9.99, 1, None), (1, 2*s_second), [(20, s_minute), (1000, s_hour)]))\n",
    "\n",
    "PricingDBLP = Pricing('DBLP', ListDBLP, 'queries')\n",
    "PricingDBLP.link_plans()\n",
    "\n",
    "PricingDBLP.create_table()"
   ]
  },
  {
   "cell_type": "code",
   "execution_count": 4,
   "metadata": {},
   "outputs": [
    {
     "data": {
      "application/vnd.jupyter.widget-view+json": {
       "model_id": "88088f92d142423b991bf13b6bd0022a",
       "version_major": 2,
       "version_minor": 0
      },
      "text/plain": [
       "Tab(children=(Button(description='Show Datasheet', style=ButtonStyle(), tooltip='Show Datasheet'), Button(desc…"
      ]
     },
     "metadata": {},
     "output_type": "display_data"
    },
    {
     "data": {
      "application/vnd.jupyter.widget-view+json": {
       "model_id": "ccaa4b50f33b4498af657d0df5fb657e",
       "version_major": 2,
       "version_minor": 0
      },
      "text/plain": [
       "Output()"
      ]
     },
     "metadata": {},
     "output_type": "display_data"
    },
    {
     "data": {
      "application/vnd.jupyter.widget-view+json": {
       "model_id": "34646235a92147409d90353b254fbb39",
       "version_major": 2,
       "version_minor": 0
      },
      "text/plain": [
       "Output()"
      ]
     },
     "metadata": {},
     "output_type": "display_data"
    }
   ],
   "source": [
    "import ipywidgets as widgets\n",
    "from IPython.display import display, clear_output, HTML\n",
    "import pandas as pd\n",
    "import matplotlib.pyplot as plt\n",
    "import numpy as np\n",
    "import webbrowser\n",
    "\n",
    "\n",
    "output_actions = widgets.Output()\n",
    "output_show_table = widgets.Output()\n",
    "output_validity = widgets.Output()\n",
    "output_pricing_bot = widgets.Output()\n",
    "output_pricing_lab = widgets.Output()\n",
    "output_csv = widgets.Output()\n",
    "output_curve = widgets.Output()\n",
    "\n",
    "\n",
    "# Funciones para cada pestaña\n",
    "\n",
    "def show_table(b):\n",
    "    global datasheet\n",
    "    table = PricingDBLP.create_table()\n",
    "    \n",
    "    with output_actions:\n",
    "        clear_output()\n",
    "        datasheet = PricingDBLP.show_more_table(table)\n",
    "        display(datasheet)\n",
    "        display(button_csv, button_curve)\n",
    "        \n",
    "    \n",
    "    \n",
    "def export_csv(b):\n",
    "    with output_actions:\n",
    "        clear_output()\n",
    "        table = PricingDBLP.create_table()\n",
    "\n",
    "        csv_path = 'tabla_dblp.csv'\n",
    "        table.to_csv(csv_path, index=False)\n",
    "        webbrowser.open(csv_path)\n",
    "        display(datasheet)\n",
    "        print(\"CSV creado con éxito\")\n",
    "\n",
    "def show_capacity_curve(b):\n",
    "    with output_actions:\n",
    "        clear_output(wait=True)\n",
    "        display(datasheet)\n",
    "        plans = PricingDBLP.plans\n",
    "        time_interval=120\n",
    "        for plan in plans: \n",
    "            curve= plan.show_available_capacity_curve(time_interval)\n",
    "        \n",
    "\n",
    "def open_main_notebook(b):\n",
    "    with output_actions:\n",
    "        clear_output(wait=True)\n",
    "        display(HTML(\"<a href='Pricing4ApiLab.ipynb' target='_blank'>Pricing4ApiLab.ipynb</a>\"))\n",
    "\n",
    "def on_button2_clicked(b):\n",
    "    with output_actions:\n",
    "        clear_output(wait=True)\n",
    "        plans = PricingDBLP.plans\n",
    "\n",
    "        invalid_plans = []\n",
    "        for i in range(len(plans) - 1):\n",
    "            current_plan = plans[i]\n",
    "            next_plan = plans[i + 1]\n",
    "\n",
    "            if current_plan.price > next_plan.price:\n",
    "                invalid_plans.append((current_plan.name, next_plan.name))\n",
    "\n",
    "        if not invalid_plans:\n",
    "            print(\"Todos los planes cumplen con la validez de precios.\")\n",
    "        else:\n",
    "            for prev, nxt in invalid_plans:\n",
    "                print(f\"ADVERTENCIA: El plan {prev} tiene un precio mayor que el plan {nxt}.\")\n",
    "\n",
    "def on_pricing_bot_clicked(b):\n",
    "    with output_actions:\n",
    "        clear_output(wait=True)\n",
    "        history = []\n",
    "\n",
    "        if 'history' in globals():\n",
    "            history = globals()['history']\n",
    "\n",
    "        text = widgets.Text(value='', placeholder='Escribe aquí', description='Input:')\n",
    "        display(text)\n",
    "\n",
    "        def handle_submit(sender):\n",
    "            clear_output(wait=True)\n",
    "            user_input = text.value\n",
    "            history.append((\"You:\", user_input))\n",
    "\n",
    "            for entry in history:\n",
    "                print(entry[0], entry[1])\n",
    "\n",
    "            if user_input == 'Con que pricing estamos trabajando':\n",
    "                response = \"Estamos trabajando con el pricing de \" + (PricingDBLP.name) + \".\"\n",
    "            elif user_input == 'Cuales son los planes que tiene DBLP':\n",
    "                response = \"DBLP está formado por el plan: \" + \", \".join(plan.name for plan in PricingDBLP.plans) + \".\"\n",
    "            else:\n",
    "                response = \"No puedo responder a eso.\"\n",
    "\n",
    "            history.append((\"Bot:\", response))\n",
    "            print(\"Bot:\", response)\n",
    "            globals()['history'] = history\n",
    "\n",
    "        text.on_submit(handle_submit)\n",
    "\n",
    "\n",
    "\n",
    "\n",
    "# Crear botones con sus descripciones\n",
    "button_show_table = widgets.Button(description=\"Show Datasheet\", tooltip=\"Show Datasheet\")\n",
    "button_validity = widgets.Button(description=\"Validity\", tooltip=\"Validity\")\n",
    "button_pricing_bot = widgets.Button(description=\"Pricing4API Bot\", tooltip=\"Pricing4API Bot\")\n",
    "button_pricing_lab = widgets.Button(description=\"Pricing4API Lab\", tooltip=\"Pricing4API Lab\")\n",
    "button_csv = widgets.Button(description=\"Export CSV\", tooltip=\"Export CSV\")\n",
    "button_curve = widgets.Button(description=\"Capacity Curves\", tooltip=\"Capacity Curves\")\n",
    "\n",
    "# Asignar funciones a los botones\n",
    "button_validity.on_click(on_button2_clicked)\n",
    "button_pricing_bot.on_click(on_pricing_bot_clicked)\n",
    "button_pricing_lab.on_click(open_main_notebook)\n",
    "button_show_table.on_click(show_table)\n",
    "button_csv.on_click(export_csv)\n",
    "button_curve.on_click(show_capacity_curve)\n",
    "\n",
    "# Organizar botones en pestañas y asignar nombres\n",
    "tab = widgets.Tab()\n",
    "tab.children = [button_show_table, button_validity, button_pricing_bot, button_pricing_lab]\n",
    "tab.set_title(0, \"Show Table\")\n",
    "tab.set_title(1, \"Validity\")\n",
    "tab.set_title(2, \"Pricing4API Bot\")\n",
    "tab.set_title(3, \"Pricing4API Lab\")\n",
    "\n",
    "\n",
    "# Mostrar las pestañas como botones con nombres\n",
    "display(tab, output_show_table, output_actions)"
   ]
  }
 ],
 "metadata": {
  "kernelspec": {
   "display_name": "Python 3",
   "language": "python",
   "name": "python3"
  },
  "language_info": {
   "codemirror_mode": {
    "name": "ipython",
    "version": 3
   },
   "file_extension": ".py",
   "mimetype": "text/x-python",
   "name": "python",
   "nbconvert_exporter": "python",
   "pygments_lexer": "ipython3",
   "version": "3.7.3"
  }
 },
 "nbformat": 4,
 "nbformat_minor": 2
}
