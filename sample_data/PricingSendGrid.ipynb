{
 "cells": [
  {
   "cell_type": "code",
   "execution_count": 1,
   "metadata": {},
   "outputs": [
    {
     "name": "stdout",
     "output_type": "stream",
     "text": [
      "Processing ./Pricing4API-0.2.1.tar.gz\n",
      "Installing collected packages: Pricing4API\n",
      "  Found existing installation: Pricing4API 0.2.1\n",
      "    Uninstalling Pricing4API-0.2.1:\n",
      "      Successfully uninstalled Pricing4API-0.2.1\n",
      "  Running setup.py install for Pricing4API ... \u001b[?25ldone\n",
      "\u001b[?25hSuccessfully installed Pricing4API-0.2.1\n"
     ]
    }
   ],
   "source": [
    "!pip install ./Pricing4API-0.2.1.tar.gz"
   ]
  },
  {
   "cell_type": "code",
   "execution_count": 2,
   "metadata": {},
   "outputs": [],
   "source": [
    "import Pricing4API"
   ]
  },
  {
   "cell_type": "code",
   "execution_count": 2,
   "metadata": {},
   "outputs": [
    {
     "data": {
      "text/html": [
       "<div>\n",
       "<style scoped>\n",
       "    .dataframe tbody tr th:only-of-type {\n",
       "        vertical-align: middle;\n",
       "    }\n",
       "\n",
       "    .dataframe tbody tr th {\n",
       "        vertical-align: top;\n",
       "    }\n",
       "\n",
       "    .dataframe thead th {\n",
       "        text-align: right;\n",
       "    }\n",
       "</style>\n",
       "<table border=\"1\" class=\"dataframe\">\n",
       "  <thead>\n",
       "    <tr style=\"text-align: right;\">\n",
       "      <th></th>\n",
       "      <th>0</th>\n",
       "      <th>1</th>\n",
       "      <th>2</th>\n",
       "      <th>3</th>\n",
       "    </tr>\n",
       "  </thead>\n",
       "  <tbody>\n",
       "    <tr>\n",
       "      <th></th>\n",
       "      <td>Basic</td>\n",
       "      <td>Pro</td>\n",
       "      <td>Ultra</td>\n",
       "      <td>Mega</td>\n",
       "    </tr>\n",
       "    <tr>\n",
       "      <th>Rate (mails/1s)</th>\n",
       "      <td>10</td>\n",
       "      <td>10</td>\n",
       "      <td>10</td>\n",
       "      <td>50</td>\n",
       "    </tr>\n",
       "    <tr>\n",
       "      <th>Quota</th>\n",
       "      <td>[1500]</td>\n",
       "      <td>[40000]</td>\n",
       "      <td>[100000]</td>\n",
       "      <td>[300000]</td>\n",
       "    </tr>\n",
       "    <tr>\n",
       "      <th>Quota Unit</th>\n",
       "      <td>[30d]</td>\n",
       "      <td>[30d]</td>\n",
       "      <td>[30d]</td>\n",
       "      <td>[30d]</td>\n",
       "    </tr>\n",
       "    <tr>\n",
       "      <th>Base Cost ($/30d)</th>\n",
       "      <td>0.0</td>\n",
       "      <td>9.95</td>\n",
       "      <td>79.95</td>\n",
       "      <td>199.95</td>\n",
       "    </tr>\n",
       "    <tr>\n",
       "      <th>Unit Overage Cost ($/mails)</th>\n",
       "      <td>0.001</td>\n",
       "      <td>0.001</td>\n",
       "      <td>0.00085</td>\n",
       "      <td>0.00005</td>\n",
       "    </tr>\n",
       "    <tr>\n",
       "      <th>Max Number of Subscriptions</th>\n",
       "      <td>1</td>\n",
       "      <td>10</td>\n",
       "      <td>10</td>\n",
       "      <td>50</td>\n",
       "    </tr>\n",
       "  </tbody>\n",
       "</table>\n",
       "</div>"
      ],
      "text/plain": [
       "                                  0        1         2         3\n",
       "                              Basic      Pro     Ultra      Mega\n",
       "Rate (mails/1s)                  10       10        10        50\n",
       "Quota                        [1500]  [40000]  [100000]  [300000]\n",
       "Quota Unit                    [30d]    [30d]     [30d]     [30d]\n",
       "Base Cost ($/30d)               0.0     9.95     79.95    199.95\n",
       "Unit Overage Cost ($/mails)   0.001    0.001   0.00085   0.00005\n",
       "Max Number of Subscriptions       1       10        10        50"
      ]
     },
     "execution_count": 2,
     "metadata": {},
     "output_type": "execute_result"
    }
   ],
   "source": [
    "import pandas as pd\n",
    "\n",
    "from Pricing4API.plan import Plan\n",
    "from Pricing4API.pricing import Pricing\n",
    "from Pricing4API.validationTest import *\n",
    "\n",
    "s_second = 1\n",
    "s_minute= 60\n",
    "s_hour = 3600\n",
    "s_day = 3600 * 24\n",
    "s_month = 3600 * 24 * 30\n",
    "\n",
    "ListSendGrid=[]\n",
    "\n",
    "ListSendGrid.append(Plan('Basic', (0.0, s_month, 0.001), (10, s_second), [(1500, s_month)]))\n",
    "ListSendGrid.append(Plan('Pro', (9.95, s_month, 0.001), (10, s_second), [(40000, s_month)], 10))\n",
    "ListSendGrid.append(Plan('Ultra', (79.95, s_month, 0.00085), (10, s_second), [(100000, s_month)], 10))\n",
    "ListSendGrid.append(Plan('Mega', (199.95, s_month, 0.00005), (50, s_second), [(300000, s_month)], 50))\n",
    "\n",
    "PricingSendGrid = Pricing('SendGrid', ListSendGrid, 'mails')\n",
    "PricingSendGrid.link_plans()\n",
    "\n",
    "PricingSendGrid.create_table()"
   ]
  },
  {
   "cell_type": "code",
   "execution_count": 3,
   "metadata": {},
   "outputs": [
    {
     "data": {
      "application/vnd.jupyter.widget-view+json": {
       "model_id": "a585b14ce14145e69f4aafbe469bc7e4",
       "version_major": 2,
       "version_minor": 0
      },
      "text/plain": [
       "Tab(children=(Button(description='Show Datasheet', style=ButtonStyle(), tooltip='Show Datasheet'), Button(desc…"
      ]
     },
     "metadata": {},
     "output_type": "display_data"
    },
    {
     "data": {
      "application/vnd.jupyter.widget-view+json": {
       "model_id": "632139e7cd2c40e8838b2872f4770f3d",
       "version_major": 2,
       "version_minor": 0
      },
      "text/plain": [
       "Output()"
      ]
     },
     "metadata": {},
     "output_type": "display_data"
    },
    {
     "data": {
      "application/vnd.jupyter.widget-view+json": {
       "model_id": "0d17f971d7d5439f9be659d861d4aa6a",
       "version_major": 2,
       "version_minor": 0
      },
      "text/plain": [
       "Output()"
      ]
     },
     "metadata": {},
     "output_type": "display_data"
    }
   ],
   "source": [
    "import ipywidgets as widgets\n",
    "from IPython.display import display, clear_output, HTML\n",
    "import pandas as pd\n",
    "import matplotlib.pyplot as plt\n",
    "import numpy as np\n",
    "import webbrowser\n",
    "\n",
    "\n",
    "output_actions = widgets.Output()\n",
    "output_show_table = widgets.Output()\n",
    "output_validity = widgets.Output()\n",
    "output_pricing_bot = widgets.Output()\n",
    "output_pricing_lab = widgets.Output()\n",
    "output_csv = widgets.Output()\n",
    "output_curve = widgets.Output()\n",
    "\n",
    "\n",
    "# Funciones para cada pestaña\n",
    "\n",
    "def show_table(b):\n",
    "    global datasheet\n",
    "    table = PricingSendGrid.create_table()\n",
    "    \n",
    "    with output_actions:\n",
    "        clear_output()\n",
    "        datasheet = PricingSendGrid.show_more_table(table)\n",
    "        display(datasheet)\n",
    "        display(button_csv, button_curve)\n",
    "        \n",
    "    \n",
    "    \n",
    "def export_csv(b):\n",
    "    with output_actions:\n",
    "        clear_output()\n",
    "        table = PricingSendGrid.create_table()\n",
    "\n",
    "        csv_path = 'tabla_sendgrid.csv'\n",
    "        table.to_csv(csv_path, index=False)\n",
    "        webbrowser.open(csv_path)\n",
    "        display(datasheet)\n",
    "        print(\"CSV creado con éxito\")\n",
    "\n",
    "def show_capacity_curve(b):\n",
    "    with output_actions:\n",
    "        clear_output(wait=True)\n",
    "        display(datasheet)\n",
    "        plans = PricingSendGrid.plans\n",
    "        time_interval=120\n",
    "        for plan in plans: \n",
    "            curve= plan.show_available_capacity_curve(time_interval)\n",
    "        \n",
    "\n",
    "def open_main_notebook(b):\n",
    "    with output_actions:\n",
    "        clear_output(wait=True)\n",
    "        display(HTML(\"<a href='Pricing4ApiLab.ipynb' target='_blank'>Pricing4ApiLab.ipynb</a>\"))\n",
    "\n",
    "def on_button2_clicked(b):\n",
    "    with output_actions:\n",
    "        clear_output(wait=True)\n",
    "        plans = PricingSendGrid.plans\n",
    "\n",
    "        invalid_plans = []\n",
    "        for i in range(len(plans) - 1):\n",
    "            current_plan = plans[i]\n",
    "            next_plan = plans[i + 1]\n",
    "\n",
    "            if current_plan.price > next_plan.price:\n",
    "                invalid_plans.append((current_plan.name, next_plan.name))\n",
    "\n",
    "        if not invalid_plans:\n",
    "            print(\"Todos los planes cumplen con la validez de precios.\")\n",
    "        else:\n",
    "            for prev, nxt in invalid_plans:\n",
    "                print(f\"ADVERTENCIA: El plan {prev} tiene un precio mayor que el plan {nxt}.\")\n",
    "\n",
    "def on_pricing_bot_clicked(b):\n",
    "    with output_actions:\n",
    "        clear_output(wait=True)\n",
    "        history = []\n",
    "\n",
    "        if 'history' in globals():\n",
    "            history = globals()['history']\n",
    "\n",
    "        text = widgets.Text(value='', placeholder='Escribe aquí', description='Input:')\n",
    "        display(text)\n",
    "\n",
    "        def handle_submit(sender):\n",
    "            clear_output(wait=True)\n",
    "            user_input = text.value\n",
    "            history.append((\"You:\", user_input))\n",
    "\n",
    "            for entry in history:\n",
    "                print(entry[0], entry[1])\n",
    "\n",
    "            if user_input == 'Con que pricing estamos trabajando':\n",
    "                response = \"Estamos trabajando con el pricing de \" + (PricingSendGrid.name) + \".\"\n",
    "            elif user_input == 'Cuales son los planes que tiene SendGrid':\n",
    "                response = \"DBLP está formado por el plan: \" + \", \".join(plan.name for plan in PricingSendGrid.plans) + \".\"\n",
    "            else:\n",
    "                response = \"No puedo responder a eso.\"\n",
    "\n",
    "            history.append((\"Bot:\", response))\n",
    "            print(\"Bot:\", response)\n",
    "            globals()['history'] = history\n",
    "\n",
    "        text.on_submit(handle_submit)\n",
    "\n",
    "\n",
    "\n",
    "\n",
    "# Crear botones con sus descripciones\n",
    "button_show_table = widgets.Button(description=\"Show Datasheet\", tooltip=\"Show Datasheet\")\n",
    "button_validity = widgets.Button(description=\"Validity\", tooltip=\"Validity\")\n",
    "button_pricing_bot = widgets.Button(description=\"Pricing4API Bot\", tooltip=\"Pricing4API Bot\")\n",
    "button_pricing_lab = widgets.Button(description=\"Pricing4API Lab\", tooltip=\"Pricing4API Lab\")\n",
    "button_csv = widgets.Button(description=\"Export CSV\", tooltip=\"Export CSV\")\n",
    "button_curve = widgets.Button(description=\"Capacity Curves\", tooltip=\"Capacity Curves\")\n",
    "\n",
    "# Asignar funciones a los botones\n",
    "button_validity.on_click(on_button2_clicked)\n",
    "button_pricing_bot.on_click(on_pricing_bot_clicked)\n",
    "button_pricing_lab.on_click(open_main_notebook)\n",
    "button_show_table.on_click(show_table)\n",
    "button_csv.on_click(export_csv)\n",
    "button_curve.on_click(show_capacity_curve)\n",
    "\n",
    "# Organizar botones en pestañas y asignar nombres\n",
    "tab = widgets.Tab()\n",
    "tab.children = [button_show_table, button_validity, button_pricing_bot, button_pricing_lab]\n",
    "tab.set_title(0, \"Show Table\")\n",
    "tab.set_title(1, \"Validity\")\n",
    "tab.set_title(2, \"Pricing4API Bot\")\n",
    "tab.set_title(3, \"Pricing4API Lab\")\n",
    "\n",
    "\n",
    "# Mostrar las pestañas como botones con nombres\n",
    "display(tab, output_show_table, output_actions)"
   ]
  },
  {
   "cell_type": "markdown",
   "metadata": {},
   "source": []
  },
  {
   "cell_type": "code",
   "execution_count": null,
   "metadata": {},
   "outputs": [
    {
     "data": {
      "image/png": "[encoded data removed]",
      "text/plain": [
       "<Figure size 864x504 with 1 Axes>"
      ]
     },
     "metadata": {},
     "output_type": "display_data"
    },
    {
     "name": "stdout",
     "output_type": "stream",
     "text": [
      "None\n"
     ]
    }
   ],
   "source": [
    "time_interval=300\n",
    "print(ListSendGrid[0].show_available_capacity_curve(time_interval))\n",
    "print(ListSendGrid[1].show_available_capacity_curve(time_interval))\n",
    "print(ListSendGrid[2].show_available_capacity_curve(time_interval))\n",
    "print(ListSendGrid[3].show_available_capacity_curve(time_interval))"
   ]
  }
 ],
 "metadata": {
  "kernelspec": {
   "display_name": "Python 3",
   "language": "python",
   "name": "python3"
  },
  "language_info": {
   "codemirror_mode": {
    "name": "ipython",
    "version": 3
   },
   "file_extension": ".py",
   "mimetype": "text/x-python",
   "name": "python",
   "nbconvert_exporter": "python",
   "pygments_lexer": "ipython3",
   "version": "3.7.3"
  }
 },
 "nbformat": 4,
 "nbformat_minor": 2
}
