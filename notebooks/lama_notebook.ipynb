{
 "cells": [
  {
   "cell_type": "markdown",
   "metadata": {
    "cell_id": "fa1e3b083c8b415bafc1f018e29584b7",
    "deepnote_app_coordinates": {
     "h": 5,
     "w": 12,
     "x": 0,
     "y": 0
    },
    "deepnote_cell_type": "markdown",
    "output_cleared": false,
    "tags": []
   },
   "source": [
    "# Automated Capacity Analysis using Smart LAMA API\n",
    "This is a notebook to test some capacity analysis operations on a simple LAMA.\n",
    "\n",
    "**This notebook has EXECUTE access and cannot be edited. You can duplicate it and then edit it if needed.**\n",
    "\n"
   ]
  },
  {
   "cell_type": "markdown",
   "metadata": {
    "cell_id": "d2dbff254b4849f4864c2aab46d9dac9",
    "deepnote_cell_type": "text-cell-h2",
    "formattedRanges": [],
    "is_collapsed": false,
    "tags": []
   },
   "source": [
    "## Preamble"
   ]
  },
  {
   "cell_type": "code",
   "execution_count": 1,
   "metadata": {
    "cell_id": "d82fb8c22a27470ea902669072b21b73",
    "deepnote_cell_type": "code",
    "deepnote_to_be_reexecuted": false,
    "execution_context_id": "564736a1-2fca-402b-abeb-f97781a059d2",
    "execution_millis": 2,
    "execution_start": 1732818458464,
    "output_cleared": false,
    "source_hash": "7047313c",
    "tags": []
   },
   "outputs": [],
   "source": [
    "# We will use an API to send the model and obtain the result. \n",
    "# We need the requests and json libraries to send and parse requests and responses.\n",
    "\n",
    "import requests, json \n",
    "\n",
    "# Some auxiliary constants and variables\n",
    "\n",
    "SECONDS_PER_MONTH= 60*60*24*30\n",
    "SECONDS_PER_DAY= 60*60*24\n",
    "MAXIMUM_COST= 99999999.99\n",
    "\n",
    "# api_url = 'https://smart-lama-api-beta.herokuapp.com/api/v2'\n",
    "api_url = 'https://smart-lama.services.governify.io/api/v2'\n",
    "urlBase= api_url+'/operations/'"
   ]
  },
  {
   "cell_type": "markdown",
   "metadata": {
    "cell_id": "4c455c8c66a84007aa46bcdc520b359d",
    "deepnote_cell_type": "text-cell-h2",
    "formattedRanges": [],
    "is_collapsed": false,
    "tags": []
   },
   "source": [
    "## Overview"
   ]
  },
  {
   "cell_type": "markdown",
   "metadata": {
    "cell_id": "808b99428abf4bc8aceee923734c9bde",
    "deepnote_cell_type": "markdown",
    "output_cleared": false,
    "tags": []
   },
   "source": [
    "The steps necessary to perform the capacity analysis queries are:\n",
    "\n",
    "- Modelling the architecture of the service by considering the internal services, the external APIs on which it depends, and their pricings. For short, an architecture with all this information will be called LAMA (Limitation-Aware Microservices Architecture).\n",
    "- Interpreting each query as invocations to Smart LAMA API, a public API that provides basic query operations, namely:\n",
    "   - maxRequests(timeWindow, maximumCost) --> maximum number of requests that the service is able to serve.\n",
    "   - maxRequestsKeys(timeWindow, keysE1Basic, keysE1Premium, keysE2Silver, keysE2Gold) --> maximum number of requests that the service is able to serve having a certain number of API keys for each plan. Note that the function created in this notebook is specific to the LAMA being modelled.\n",
    "   - minTime(numRequests, maximumCost) --> minimum time that the service needs to serve at least 'numRequests' requests.\n",
    "   - minTime(numRequests, keysE1Basic, keysE1Premium, keysE2Silver, keysE2Gold) --> minimum time that the service needs to serve at least 'numRequests' having a certain number of API keys for each plan. Note that the function created in this notebook is specific to the LAMA being modelled.\n",
    "   - minCost(numRequests, numSeconds) --> minimum cost of the service, so that it can serve a minimum of 'numRequests' over a time window of 'numSeconds' seconds.\n",
    "   Note that all operations have an additional, optional parameter 'useOvg' to indicate whether overage requests can be used.\n"
   ]
  },
  {
   "cell_type": "code",
   "execution_count": 2,
   "metadata": {
    "cell_id": "4a3161989f794fb380efc52e050c6f20",
    "deepnote_cell_type": "code",
    "deepnote_to_be_reexecuted": false,
    "execution_context_id": "917e8b2f-7401-43e7-9d5f-eadbb5b3eb19",
    "execution_millis": 1,
    "execution_start": 1732818458536,
    "source_hash": "e3beece",
    "tags": []
   },
   "outputs": [],
   "source": [
    "# Wrappers for calling the API\n",
    "\n",
    "headers = {'Content-Type': 'application/json'}\n",
    "\n",
    "def maxRequests(ldl,timeWindow,maximumCost=MAXIMUM_COST,useOvg=\"false\"):\n",
    "    api_q= urlBase+'maxRequests?OpEx={0}&time={1}&useOvg={2}'.format(maximumCost,timeWindow,useOvg)\n",
    "    res = requests.post(api_q,data=json.dumps(ldl),headers=headers).json()\n",
    "    result = res['result']\n",
    "    response = res['response']\n",
    "    return (result, response)\n",
    "\n",
    "def maxRequestsKeys(ldl,timeWindow,keysE1Basic,keysE1Premium,keysE2Silver,keysE2Gold,useOvg=\"false\"):\n",
    "    api_q= urlBase+'maxRequests?K-E1-Basic={0}&K-E1-Premium={1}&K-E2-Silver={2}&K-E2-Gold={3}&time={4}&useOvg={5}'.format(keysE1Basic,keysE1Premium,keysE2Silver,keysE2Gold,timeWindow,useOvg)\n",
    "    res = requests.post(api_q,data=json.dumps(ldl),headers=headers).json()\n",
    "    result = res['result']\n",
    "    response = res['response']\n",
    "    return (result, response)\n",
    "\n",
    "def minCost(ldl,numRequests,numSeconds=SECONDS_PER_MONTH,useOvg=\"false\"):\n",
    "    api_q= urlBase+'minCost?reqL={0}&time={1}&useOvg={2}'.format(numRequests,numSeconds,useOvg)\n",
    "    res = requests.post(api_q,data=json.dumps(ldl),headers=headers).json()\n",
    "    result = res['result']\n",
    "    response = res['response']\n",
    "    return (result, response)\n",
    "\n",
    "def minTime(ldl,numRequests,maximumCost=MAXIMUM_COST,useOvg=\"false\"):\n",
    "    api_q= urlBase+'minTime?reqL={0}&OpEx={1}&useOvg={2}'.format(numRequests, maximumCost,useOvg)\n",
    "    res = requests.post(api_q,data=json.dumps(ldl),headers=headers).json()\n",
    "    result = res['result']\n",
    "    response = res['response']\n",
    "    return (result, response)\n",
    "\n",
    "def minTimeKeys(ldl,numRequests,keysE1Basic,keysE1Premium,keysE2Silver,keysE2Gold,useOvg=\"false\"):\n",
    "    api_q= urlBase+'minTime?reqL={0}&K-E1-Basic={1}&K-E1-Premium={2}&K-E2-Silver={3}&K-E2-Gold={4}&useOvg={5}'.format(numRequests,keysE1Basic,keysE1Premium,keysE2Silver,keysE2Gold,useOvg)\n",
    "    res = requests.post(api_q,data=json.dumps(ldl),headers=headers).json()\n",
    "    result = res['result']\n",
    "    response = res['response']\n",
    "    return (result, response)"
   ]
  },
  {
   "cell_type": "markdown",
   "metadata": {
    "cell_id": "8116b32d9b094853a9e37ece2fadbb65",
    "deepnote_cell_type": "markdown",
    "output_cleared": false,
    "tags": []
   },
   "source": [
    "#### Creating the LAMA\n",
    "\n",
    "The LAMA in this example contains 3 internal services and 2 external APIs, each one having 2 different plans. This LAMA is the same as the one in Fig. 1 of the paper.\n",
    "\n",
    "The following cell contains a function to POST the LAMA to the API. An additional cell containing functions to delete LAMAs is included but not used in this notebook."
   ]
  },
  {
   "cell_type": "markdown",
   "metadata": {
    "cell_id": "e45e9b5f40b84688ad94845313478568",
    "deepnote_cell_type": "markdown",
    "tags": []
   },
   "source": [
    "![Picture title](basicmodel.png)"
   ]
  },
  {
   "cell_type": "code",
   "execution_count": 3,
   "metadata": {
    "cell_id": "f3eb09da92254825b84da8766105e675",
    "deepnote_cell_type": "code",
    "deepnote_to_be_reexecuted": false,
    "execution_context_id": "917e8b2f-7401-43e7-9d5f-eadbb5b3eb19",
    "execution_millis": 0,
    "execution_start": 1732818458585,
    "output_cleared": false,
    "source_hash": "27a5ae90",
    "tags": []
   },
   "outputs": [],
   "source": [
    "# Description of the LAMA to analyse\n",
    "lama_dl = {\n",
    "    \"services\": [\"S1\",\"S2\",\"S3\"],\n",
    "    \"external\": [\"E1\",\"E2\"],\n",
    "    \"entry\": \"S1\",\n",
    "    \"relationships\": [\n",
    "        {\n",
    "            \"from\": \"S1\",\n",
    "            \"to\": \"S2\",\n",
    "            \"value\": 3\n",
    "        },\n",
    "        {\n",
    "            \"from\": \"S1\",\n",
    "            \"to\": \"S3\",\n",
    "            \"value\": 2\n",
    "        },\n",
    "        {\n",
    "            \"from\": \"S2\",\n",
    "            \"to\": \"E1\",\n",
    "            \"value\": 2\n",
    "        },\n",
    "        {\n",
    "            \"from\": \"S3\",\n",
    "            \"to\": \"E1\",\n",
    "            \"value\": 1\n",
    "        },\n",
    "        {\n",
    "            \"from\": \"S3\",\n",
    "            \"to\": \"E2\",\n",
    "            \"value\": 2\n",
    "        }\n",
    "    ],\n",
    "    \"pricings\": [\n",
    "        {\n",
    "            \"external\": \"E1\",\n",
    "            \"plans\": [\n",
    "                {\n",
    "                    \"name\": \"Basic\",\n",
    "                    \"cost\": 5.0,\n",
    "                    \"rate\": 15,\n",
    "                    \"rateunit\": 1,\n",
    "                    \"quota\": 1000,\n",
    "                    \"quotaunit\": 86400,\n",
    "                    \"ovg\": 0.01\n",
    "                },\n",
    "                {\n",
    "                    \"name\": \"Premium\",\n",
    "                    \"cost\": 8.0,\n",
    "                    \"rate\": 25,\n",
    "                    \"rateunit\": 1,\n",
    "                    \"quota\": 10000,\n",
    "                    \"quotaunit\": 86400\n",
    "                }\n",
    "            ]\n",
    "        },\n",
    "        {\n",
    "            \"external\": \"E2\",\n",
    "            \"plans\": [\n",
    "                {\n",
    "                    \"name\": \"Silver\",\n",
    "                    \"cost\": 4.0,\n",
    "                    \"rate\": 10,\n",
    "                    \"rateunit\": 1\n",
    "                },\n",
    "                {\n",
    "                    \"name\": \"Gold\",\n",
    "                    \"cost\": 10.0,\n",
    "                    \"rate\": 20,\n",
    "                    \"rateunit\": 1\n",
    "                }\n",
    "            ]\n",
    "        }\n",
    "    ]\n",
    "}"
   ]
  },
  {
   "cell_type": "markdown",
   "metadata": {
    "cell_id": "b12866d76a1e40fb998faa8c42a5d07f",
    "deepnote_cell_type": "text-cell-h2",
    "formattedRanges": [],
    "is_collapsed": false,
    "tags": []
   },
   "source": [
    "## Analysis Operations"
   ]
  },
  {
   "cell_type": "code",
   "execution_count": 4,
   "metadata": {
    "cell_id": "739ab6f8eb6b4fd4aecd753568c83b33",
    "deepnote_cell_type": "code",
    "deepnote_to_be_reexecuted": false,
    "execution_context_id": "564736a1-2fca-402b-abeb-f97781a059d2",
    "execution_millis": 760,
    "execution_start": 1732818458640,
    "source_hash": "2f627027",
    "tags": []
   },
   "outputs": [
    {
     "name": "stdout",
     "output_type": "stream",
     "text": [
      "The cheapest operational cost to offer 2 requests per 1 second(s) to 20 customers is $ 174 \n",
      "<pre>reqS1 = 40;\n",
      "reqS2 = 120;\n",
      "reqS3 = 80;\n",
      "reqE1 = 320;\n",
      "reqE2 = 160;\n",
      "reqL = 40;\n",
      "time = 1;\n",
      "OpEx = 174.0;\n",
      "limReqE1 = array1d(PlansE1, [120, 200]);\n",
      "ovgReqE1 = array1d(PlansE1, [0, 0]);\n",
      "limReqE2 = array1d(PlansE2, [100, 60]);\n",
      "ovgReqE2 = array1d(PlansE2, [0, 0]);\n",
      "keysE1 = array1d(PlansE1, [8, 8]);\n",
      "OpExE1 = 104.0;\n",
      "keysE2 = array1d(PlansE2, [10, 3]);\n",
      "OpExE2 = 70.0;\n",
      "aux = 0;\n",
      "----------\n",
      "==========\n",
      "</pre>\n"
     ]
    }
   ],
   "source": [
    "# Q1. What is the cheapest operational cost for my LAMA in order to offer 2 RPS to 20 customers?\n",
    "r=2\n",
    "cstm=20\n",
    "t=1\n",
    "(MR,fullResponse) = minCost(lama_dl, r*cstm, t)\n",
    "print ('The cheapest operational cost to offer {0} requests per {1} second(s) to {2} customers is $ {3} '.format(r,t,cstm,MR))\n",
    "print (fullResponse)"
   ]
  },
  {
   "cell_type": "code",
   "execution_count": 5,
   "metadata": {
    "cell_id": "f38662a5c8754a7cae53982ea7b1d207",
    "deepnote_cell_type": "code",
    "execution_context_id": "564736a1-2fca-402b-abeb-f97781a059d2",
    "execution_millis": 561,
    "execution_start": 1732818459444,
    "source_hash": "e00cac19",
    "tags": []
   },
   "outputs": [
    {
     "name": "stdout",
     "output_type": "stream",
     "text": [
      "The maximum number of requests that each one of 20 customers can make in 60 second(s) with the specified keys is 5.6 \n",
      "<pre>reqS1 = 112;\n",
      "reqS2 = 336;\n",
      "reqS3 = 224;\n",
      "reqE1 = 896;\n",
      "reqE2 = 448;\n",
      "reqL = 112;\n",
      "time = 60;\n",
      "OpEx = 15.0;\n",
      "limReqE1 = array1d(PlansE1, [896, 0]);\n",
      "ovgReqE1 = array1d(PlansE1, [0, 0]);\n",
      "limReqE2 = array1d(PlansE2, [0, 448]);\n",
      "ovgReqE2 = array1d(PlansE2, [0, 0]);\n",
      "keysE1 = array1d(PlansE1, [1, 0]);\n",
      "OpExE1 = 5.0;\n",
      "keysE2 = array1d(PlansE2, [0, 1]);\n",
      "OpExE2 = 10.0;\n",
      "aux = 0;\n",
      "----------\n",
      "==========\n",
      "</pre>\n"
     ]
    }
   ],
   "source": [
    "# Q2. Assuming we have a Basic plan and a Gold plan already contracted what is the maximal RPM I can\n",
    "# guarantee to all my 20 customers?\n",
    "\n",
    "keysE1Basic=1\n",
    "keysE1Premium=0\n",
    "keysE2Silver=0\n",
    "keysE2Gold=1\n",
    "t=60\n",
    "cstm=20\n",
    "(MR,fullResponse) = maxRequestsKeys(lama_dl, t, keysE1Basic, keysE1Premium, keysE2Silver, keysE2Gold)\n",
    "MR=MR/cstm\n",
    "print ('The maximum number of requests that each one of {0} customers can make in {1} second(s) with the specified keys is {2} '.format(cstm,t,MR))\n",
    "print (fullResponse)"
   ]
  },
  {
   "cell_type": "code",
   "execution_count": 7,
   "metadata": {
    "cell_id": "9ecfd983895645a8a4f5eabce94b9492",
    "deepnote_cell_type": "code",
    "execution_context_id": "564736a1-2fca-402b-abeb-f97781a059d2",
    "execution_millis": 604,
    "execution_start": 1732818460048,
    "source_hash": "b198448b",
    "tags": []
   },
   "outputs": [
    {
     "name": "stdout",
     "output_type": "stream",
     "text": [
      "The maximum number of requests that each one of 20 customers can make in 1 second(s) for less than $ 120 is 1.35\n",
      "<pre>reqS1 = 27;\n",
      "reqS2 = 81;\n",
      "reqS3 = 54;\n",
      "reqE1 = 216;\n",
      "reqE2 = 108;\n",
      "reqL = 27;\n",
      "time = 1;\n",
      "OpEx = 118.0;\n",
      "limReqE1 = array1d(PlansE1, [0, 216]);\n",
      "ovgReqE1 = array1d(PlansE1, [0, 0]);\n",
      "limReqE2 = array1d(PlansE2, [90, 18]);\n",
      "ovgReqE2 = array1d(PlansE2, [0, 0]);\n",
      "keysE1 = array1d(PlansE1, [0, 9]);\n",
      "OpExE1 = 72.0;\n",
      "keysE2 = array1d(PlansE2, [9, 1]);\n",
      "OpExE2 = 46.0;\n",
      "aux = 0;\n",
      "----------\n",
      "==========\n",
      "</pre>\n"
     ]
    }
   ],
   "source": [
    "# Q3. Assuming we have a monthly budget limit of $120 in my LAMA, which is the maximum RPS\n",
    "# to each of 20 customers?\n",
    "\n",
    "t=1\n",
    "c=120\n",
    "cstm=20\n",
    "(MR,fullResponse) = maxRequests(lama_dl, t, c)\n",
    "MR=MR/cstm\n",
    "print ('The maximum number of requests that each one of {0} customers can make in {1} second(s) for less than $ {2} is {3}'.format(cstm,t,c,MR))\n",
    "print (fullResponse)"
   ]
  },
  {
   "cell_type": "code",
   "execution_count": 7,
   "metadata": {
    "cell_id": "6b8d59320974404aa502a048b92e1717",
    "deepnote_cell_type": "code",
    "execution_context_id": "564736a1-2fca-402b-abeb-f97781a059d2",
    "execution_millis": 689,
    "execution_start": 1732818460700,
    "source_hash": "5567b2fa",
    "tags": []
   },
   "outputs": [
    {
     "name": "stdout",
     "output_type": "stream",
     "text": [
      "The cheapest operational cost to offer 50 requests per 1 second(s) is $ 220 \n",
      "<pre>reqS1 = 50;\n",
      "reqS2 = 150;\n",
      "reqS3 = 100;\n",
      "reqE1 = 400;\n",
      "reqE2 = 200;\n",
      "reqL = 50;\n",
      "time = 1;\n",
      "OpEx = 220.0;\n",
      "limReqE1 = array1d(PlansE1, [150, 250]);\n",
      "ovgReqE1 = array1d(PlansE1, [0, 0]);\n",
      "limReqE2 = array1d(PlansE2, [100, 100]);\n",
      "ovgReqE2 = array1d(PlansE2, [0, 0]);\n",
      "keysE1 = array1d(PlansE1, [10, 10]);\n",
      "OpExE1 = 130.0;\n",
      "keysE2 = array1d(PlansE2, [10, 5]);\n",
      "OpExE2 = 90.0;\n",
      "aux = 0;\n",
      "----------\n",
      "==========\n",
      "</pre>\n"
     ]
    }
   ],
   "source": [
    "# Q4. What is the cheapest operational cost to guarantee a global operating condition of 50 RPS?\n",
    "\n",
    "r=50\n",
    "t=1\n",
    "(MR,fullResponse) = minCost(lama_dl, r, t)\n",
    "print ('The cheapest operational cost to offer {0} requests per {1} second(s) is $ {2} '.format(r,t,MR))\n",
    "print (fullResponse)"
   ]
  },
  {
   "cell_type": "code",
   "execution_count": 8,
   "metadata": {
    "cell_id": "47e88b0605c845c586c7b8321b143d5c",
    "deepnote_cell_type": "code",
    "execution_context_id": "564736a1-2fca-402b-abeb-f97781a059d2",
    "execution_millis": 393,
    "execution_start": 1732818461436,
    "source_hash": "27d30f5c",
    "tags": []
   },
   "outputs": [
    {
     "name": "stdout",
     "output_type": "stream",
     "text": [
      "The maximum number of requests that can be made in 1 second(s) with the specified keys is 1 \n",
      "<pre>reqS1 = 1;\n",
      "reqS2 = 3;\n",
      "reqS3 = 2;\n",
      "reqE1 = 8;\n",
      "reqE2 = 4;\n",
      "reqL = 1;\n",
      "time = 1;\n",
      "OpEx = 15.0;\n",
      "limReqE1 = array1d(PlansE1, [8, 0]);\n",
      "ovgReqE1 = array1d(PlansE1, [0, 0]);\n",
      "limReqE2 = array1d(PlansE2, [0, 4]);\n",
      "ovgReqE2 = array1d(PlansE2, [0, 0]);\n",
      "keysE1 = array1d(PlansE1, [1, 0]);\n",
      "OpExE1 = 5.0;\n",
      "keysE2 = array1d(PlansE2, [0, 1]);\n",
      "OpExE2 = 10.0;\n",
      "aux = 0;\n",
      "----------\n",
      "==========\n",
      "</pre>\n"
     ]
    }
   ],
   "source": [
    "# Q5. Assuming we have a Basic plan and a Gold plan already contracted what is\n",
    "# the maximal RPS I can guarantee as operating condition?\n",
    "\n",
    "keysE1Basic=1\n",
    "keysE1Premium=0\n",
    "keysE2Silver=0\n",
    "keysE2Gold=1\n",
    "t=1\n",
    "(MR,fullResponse) = maxRequestsKeys(lama_dl, t, keysE1Basic, keysE1Premium, keysE2Silver, keysE2Gold)\n",
    "print ('The maximum number of requests that can be made in {0} second(s) with the specified keys is {1} '.format(t,MR))\n",
    "print (fullResponse)"
   ]
  },
  {
   "cell_type": "code",
   "execution_count": 9,
   "metadata": {
    "cell_id": "2d4cd885ba254d408b1eece688067b73",
    "deepnote_cell_type": "code",
    "execution_context_id": "564736a1-2fca-402b-abeb-f97781a059d2",
    "execution_millis": 359,
    "execution_start": 1732818461880,
    "owner_user_id": "5bcfb2f3-531b-42d7-a1a4-56801a8e0964",
    "source_hash": "5762d457",
    "tags": []
   },
   "outputs": [
    {
     "name": "stdout",
     "output_type": "stream",
     "text": [
      "The maximum number of requests that can be made in 1 second(s) for less than $ 120 is 27\n",
      "<pre>reqS1 = 27;\n",
      "reqS2 = 81;\n",
      "reqS3 = 54;\n",
      "reqE1 = 216;\n",
      "reqE2 = 108;\n",
      "reqL = 27;\n",
      "time = 1;\n",
      "OpEx = 118.0;\n",
      "limReqE1 = array1d(PlansE1, [0, 216]);\n",
      "ovgReqE1 = array1d(PlansE1, [0, 0]);\n",
      "limReqE2 = array1d(PlansE2, [90, 18]);\n",
      "ovgReqE2 = array1d(PlansE2, [0, 0]);\n",
      "keysE1 = array1d(PlansE1, [0, 9]);\n",
      "OpExE1 = 72.0;\n",
      "keysE2 = array1d(PlansE2, [9, 1]);\n",
      "OpExE2 = 46.0;\n",
      "aux = 0;\n",
      "----------\n",
      "==========\n",
      "</pre>\n"
     ]
    }
   ],
   "source": [
    "# Q6. Assuming we have a monthly budget limit of $120 in my LAMA, which is the maximum RPS\n",
    "# I can guarantee as operating condition?\n",
    "\n",
    "t=1\n",
    "c=120\n",
    "(MR,fullResponse) = maxRequests(lama_dl, t, c)\n",
    "print ('The maximum number of requests that can be made in {0} second(s) for less than $ {1} is {2}'.format(t,c,MR))\n",
    "print (fullResponse)\n"
   ]
  },
  {
   "cell_type": "code",
   "execution_count": 10,
   "metadata": {
    "cell_id": "7f5072f655904da4979112ce7ce7cad8",
    "deepnote_cell_type": "visualization",
    "execution_context_id": "917e8b2f-7401-43e7-9d5f-eadbb5b3eb19",
    "execution_millis": 0,
    "execution_start": 1732818462285,
    "source_hash": "b623e53d"
   },
   "outputs": [],
   "source": []
  },
  {
   "cell_type": "markdown",
   "metadata": {
    "created_in_deepnote_cell": true,
    "deepnote_cell_type": "markdown"
   },
   "source": [
    "<a style='text-decoration:none;line-height:16px;display:flex;color:#5B5B62;padding:10px;justify-content:end;' href='https://deepnote.com?utm_source=created-in-deepnote-cell&projectId=a2de20fe-81a1-45ad-b4ec-a8e29ff00187' target=\"_blank\">\n",
    "<img alt='Created in deepnote.com' style='display:inline;max-height:16px;margin:0px;margin-right:7.5px;' src='data:image/svg+xml;base64,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' > </img>\n",
    "Created in <span style='font-weight:600;margin-left:4px;'>Deepnote</span></a>"
   ]
  }
 ],
 "metadata": {
  "deepnote_app_layout": "dashboard",
  "deepnote_notebook_id": "91cad8e1e25e4f5986ce15babf9f5613",
  "deepnote_persisted_session": {
   "createdAt": "2024-11-28T18:45:16.007Z"
  },
  "kernelspec": {
   "display_name": ".venv",
   "language": "python",
   "name": "python3"
  },
  "language_info": {
   "codemirror_mode": {
    "name": "ipython",
    "version": 3
   },
   "file_extension": ".py",
   "mimetype": "text/x-python",
   "name": "python",
   "nbconvert_exporter": "python",
   "pygments_lexer": "ipython3",
   "version": "3.10.11"
  }
 },
 "nbformat": 4,
 "nbformat_minor": 0
}
