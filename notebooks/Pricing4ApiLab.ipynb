{
 "cells": [
  {
   "cell_type": "code",
   "execution_count": 2,
   "metadata": {},
   "outputs": [],
   "source": [
    "import pandas as pd\n",
    "\n",
    "from Pricing4API.plan import Plan\n",
    "from Pricing4API.pricing import Pricing\n",
    "from Pricing4API.optimal_subscription import *\n",
    "\n",
    "s_second = 1\n",
    "s_minute= 60\n",
    "s_hour = 3600\n",
    "s_day = 3600 * 24\n",
    "s_month = 3600 * 24 * 30\n",
    "\n",
    "ListSendGrid=[]\n",
    "\n",
    "ListSendGrid.append(Plan('Basic', (0.0, s_month, 0.001), (10, s_second), [(1500, s_month)]))\n",
    "ListSendGrid.append(Plan('Pro', (9.95, s_month, 0.001), (10, s_second), [(40000, s_month)], 10))\n",
    "ListSendGrid.append(Plan('Ultra', (79.95, s_month, 0.00085), (10, s_second), [(100000, s_month)], 10))\n",
    "ListSendGrid.append(Plan('Mega', (199.95, s_month, 0.00005), (50, s_second), [(300000, s_month)], 50))\n",
    "\n",
    "PricingSendGrid = Pricing('SendGrid', ListSendGrid, 'mails')\n"
   ]
  },
  {
   "cell_type": "code",
   "execution_count": null,
   "metadata": {},
   "outputs": [],
   "source": [
    "import pandas as pd\n",
    "\n",
    "from Pricing4API.plan import Plan\n",
    "from Pricing4API.pricing import Pricing\n",
    "\n",
    "\n",
    "s_second = 1\n",
    "s_minute= 60\n",
    "s_hour = 3600\n",
    "s_day = 3600 * 24\n",
    "s_month = 3600 * 24 * 30\n",
    "\n",
    "ListDBLP=[]\n",
    "ListDBLP.append(Plan('Pro', (9.99, 1, None), (1, 2*s_second), [(20, s_minute), (1000, s_hour)]))\n",
    "\n",
    "PricingDBLP = Pricing('DBLP', ListDBLP, 'queries')\n",
    "PricingDBLP.link_plans()"
   ]
  },
  {
   "cell_type": "code",
   "execution_count": null,
   "metadata": {
    "scrolled": false
   },
   "outputs": [],
   "source": [
    "##Problema de la mochila. ¿A qué planes debo suscribirme para minimizar el precio para consumir n peticiones en un tiempo determinado?\n",
    "\n",
    "num_correos = 15000\n",
    "time = s_minute*20\n",
    "resultado_combinacion, mejor_precio = get_optimal_subscription(PricingSendGrid.plans, num_correos, time)\n",
    "\n"
   ]
  },
  {
   "cell_type": "code",
   "execution_count": null,
   "metadata": {},
   "outputs": [],
   "source": [
    "#1 ¿Cuantas requests se pueden hacer en un periodo de 1 semana para el Pricing de Sengrid?\n",
    "\n",
    "for plan in PricingDBLP.plans:\n",
    "    \n",
    "    print(\"El numero de requests para el plan\", plan.name, \"de SendGrid es de:\", plan.available_capacity('38s', len(plan.limits) - 1),\"requests en\")\n",
    "    print(\"El numero de requests para el plan\", plan.name, \"de SendGrid es de:\", plan.available_capacity('59s', len(plan.limits) - 1),\"requests en\")\n",
    "    print(\"El numero de requests para el plan\", plan.name, \"de SendGrid es de:\", plan.available_capacity('60s', len(plan.limits) - 1),\"requests en\")"
   ]
  },
  {
   "cell_type": "code",
   "execution_count": null,
   "metadata": {},
   "outputs": [],
   "source": [
    "#2 ¿Cuánto tiempo necesita cada plan para hacer el numero máximo de request posibles en un instante t?\n",
    "for plan in PricingDBLP.plans:\n",
    "    print(\"El tiempo que tarda el plan\", plan.name, \"de\", plan.name, \"en consumir\", plan.available_capacity('38s', len(plan.limits) - 1), \"requests es de:\", format_time(plan.min_time(plan.available_capacity('38s', len(plan.limits) - 1))))"
   ]
  },
  {
   "cell_type": "code",
   "execution_count": null,
   "metadata": {},
   "outputs": [],
   "source": [
    "#3 ¿Cuánto tiempo estaría cada plan sin consumir desde que se ha alcanzado la capacidad máxima en un instante t?\n",
    "tiempo=38\n",
    "    \n",
    "for plan in PricingDBLP.plans: \n",
    "    period_q = plan.limits[1][1]\n",
    "    wastage_threshold = plan.compute_t_ast()\n",
    "    print(f\"El tiempo que estaría el plan {plan.name} de PricingDBLP sin consumir es de: {tiempo+(period_q-wastage_threshold[1])}\")"
   ]
  },
  {
   "cell_type": "code",
   "execution_count": null,
   "metadata": {},
   "outputs": [],
   "source": [
    "# 4: ¿Es posible enviar 40000 correos en 1 hora (asumiendo los limites de suscripción indicados en el pricing)?  \n",
    "# Este codgio responde a la pregunta en conjunto para un pricing\n",
    "\n",
    "def calcular_suscripciones(plans, num_correos, tiempo):\n",
    "    suscripciones_utilizadas = []\n",
    "    total_suscripciones = 0\n",
    "    total_precio = 0\n",
    "    \n",
    "    for plan in plans:\n",
    "        capacidad_en_tiempo = plan.max_capacity(tiempo)\n",
    "        suscripciones_disponibles = plan.max_number_of_subscriptions\n",
    "        \n",
    "        suscripciones_necesarias = math.ceil(num_correos / capacidad_en_tiempo)\n",
    "        suscripciones_a_utilizar = min(suscripciones_necesarias, suscripciones_disponibles)\n",
    "        \n",
    "        suscripciones_utilizadas.append((plan.name, suscripciones_a_utilizar))\n",
    "        total_suscripciones += suscripciones_a_utilizar\n",
    "        num_correos -= capacidad_en_tiempo * suscripciones_a_utilizar\n",
    "        total_precio += suscripciones_a_utilizar * plan.price\n",
    "        \n",
    "        if num_correos <= 0:\n",
    "            break\n",
    "    \n",
    "    return suscripciones_utilizadas, total_suscripciones, total_precio\n",
    "\n",
    "# Llamada a la función con los planes definidos, el número de correos a enviar y el tiempo en segundos\n",
    "num_correos = 1312\n",
    "tiempo = 3600\n",
    "resultado_suscripciones, total_suscripciones, total_precio = calcular_suscripciones(PricingSendGrid.plans, num_correos, tiempo)\n",
    "\n",
    "print(f\"Se necesitan las siguientes suscripciones para realizar {num_correos} requests en {format_time(tiempo)}:\")\n",
    "for plan, suscripciones in resultado_suscripciones:\n",
    "    print(f\"{suscripciones} suscripción del plan {plan}\")\n",
    "\n",
    "print(f\"Total de suscripciones necesarias: {total_suscripciones}\")\n",
    "print(f\"Precio total de suscripciones: {total_precio}\")\n"
   ]
  },
  {
   "cell_type": "code",
   "execution_count": null,
   "metadata": {},
   "outputs": [],
   "source": []
  },
  {
   "cell_type": "code",
   "execution_count": null,
   "metadata": {},
   "outputs": [],
   "source": []
  },
  {
   "cell_type": "code",
   "execution_count": null,
   "metadata": {},
   "outputs": [],
   "source": []
  },
  {
   "cell_type": "markdown",
   "metadata": {},
   "source": [
    " "
   ]
  }
 ],
 "metadata": {
  "kernelspec": {
   "display_name": ".venv",
   "language": "python",
   "name": "python3"
  },
  "language_info": {
   "codemirror_mode": {
    "name": "ipython",
    "version": 3
   },
   "file_extension": ".py",
   "mimetype": "text/x-python",
   "name": "python",
   "nbconvert_exporter": "python",
   "pygments_lexer": "ipython3",
   "version": "3.10.11"
  }
 },
 "nbformat": 4,
 "nbformat_minor": 2
}
