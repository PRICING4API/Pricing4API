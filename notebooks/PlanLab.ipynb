{
 "cells": [
  {
   "cell_type": "code",
   "execution_count": 1,
   "metadata": {},
   "outputs": [],
   "source": [
    "import pandas as pd\n",
    "\n",
    "from Pricing4API.plan import Plan\n",
    "from Pricing4API.pricing import Pricing\n",
    "from Pricing4API.optimal_subscription import *\n",
    "\n",
    "s_second = 1\n",
    "s_minute = 60\n",
    "s_hour = 3600\n",
    "s_day = 3600 * 24\n",
    "s_month = 3600 * 24 * 30\n",
    "\n",
    "# Definir los planes\n",
    "plan_basic = Plan('Basic', (0.0, s_month, 0.001), (10, s_second), [(1500, s_month)])\n",
    "plan_pro = Plan('Pro', (9.95, s_month, 0.001), (10, s_second), [(40000, s_month)], 10)\n",
    "plan_ultra = Plan('Ultra', (79.95, s_month, 0.00085), (10, s_second), [(100000, s_month)], 10)\n",
    "plan_mega = Plan('Mega', (199.95, s_month, 0.00005), (50, s_second), [(300000, s_month)], 50)"
   ]
  },
  {
   "cell_type": "code",
   "execution_count": 33,
   "metadata": {},
   "outputs": [
    {
     "data": {
      "text/plain": [
       "99.0"
      ]
     },
     "execution_count": 33,
     "metadata": {},
     "output_type": "execute_result"
    }
   ],
   "source": [
    "plan_basic.min_time(1000)"
   ]
  },
  {
   "cell_type": "code",
   "execution_count": null,
   "metadata": {},
   "outputs": [],
   "source": []
  }
 ],
 "metadata": {
  "kernelspec": {
   "display_name": ".venv",
   "language": "python",
   "name": "python3"
  },
  "language_info": {
   "codemirror_mode": {
    "name": "ipython",
    "version": 3
   },
   "file_extension": ".py",
   "mimetype": "text/x-python",
   "name": "python",
   "nbconvert_exporter": "python",
   "pygments_lexer": "ipython3",
   "version": "3.10.11"
  }
 },
 "nbformat": 4,
 "nbformat_minor": 2
}
